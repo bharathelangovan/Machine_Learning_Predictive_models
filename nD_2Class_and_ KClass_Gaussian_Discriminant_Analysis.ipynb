{
 "cells": [
  {
   "cell_type": "code",
   "execution_count": 1,
   "metadata": {
    "collapsed": false
   },
   "outputs": [],
   "source": [
    "import numpy as np\n",
    "import math\n",
    "from sklearn.cross_validation import KFold\n",
    "from sklearn.linear_model import LogisticRegression\n",
    "from sklearn.metrics import accuracy_score, confusion_matrix, precision_score,recall_score,f1_score\n",
    "import matplotlib.pyplot as plt\n",
    "%matplotlib inline\n",
    "import io"
   ]
  },
  {
   "cell_type": "code",
   "execution_count": 2,
   "metadata": {
    "collapsed": true
   },
   "outputs": [],
   "source": [
    "filename = \"breast-cancer-wisconsin.data.txt\"\n",
    "r = io.open(filename, encoding='utf8').readlines()\n",
    "X = []\n",
    "Y = []\n",
    "for i in r:\n",
    "    x = i.split(',')\n",
    "    for j in range(1,len(x)-1):\n",
    "        try:\n",
    "            x[j] = int(x[j])\n",
    "        except ValueError:\n",
    "            x[j] = 0\n",
    "    X.append(map(int,x[1:len(x)-1]))\n",
    "    Y.append([int(x[-1])])\n",
    "Y = np.array(Y)\n",
    "X = np.array(X)"
   ]
  },
  {
   "cell_type": "code",
   "execution_count": 3,
   "metadata": {
    "collapsed": true
   },
   "outputs": [],
   "source": [
    "def find_alpha(class_labels):\n",
    "    alpha1 = {}\n",
    "    class_count1 = {}\n",
    "    for i in class_labels:\n",
    "        if i[0] not in class_count1.keys():\n",
    "            class_count1[i[0]] = 1\n",
    "        else:\n",
    "            class_count1[i[0]] += 1\n",
    "    classes1 = class_count1.keys()\n",
    "    for j in  class_count1:\n",
    "        alpha1[j] = class_count1[j]*1.0/len(class_labels)\n",
    "    return classes1,class_count1,alpha1"
   ]
  },
  {
   "cell_type": "code",
   "execution_count": 4,
   "metadata": {
    "collapsed": true
   },
   "outputs": [],
   "source": [
    "def segregate_data(data,labels,clabels):\n",
    "    multi_X = {}\n",
    "    for i in range(len(clabels)):\n",
    "        if clabels[i] not in multi_X.keys():\n",
    "            multi_X[clabels[i]] = []\n",
    "        for j in range(len(labels)):\n",
    "            if labels[j][0] == clabels[i]:\n",
    "                multi_X[clabels[i]].append(data[j]) \n",
    "    for i in multi_X:\n",
    "        multi_X[i] = np.array(multi_X[i])\n",
    "    return multi_X"
   ]
  },
  {
   "cell_type": "code",
   "execution_count": 5,
   "metadata": {
    "collapsed": true
   },
   "outputs": [],
   "source": [
    "def find_mean_multi(data):\n",
    "    multi_mean1 = {}\n",
    "    for i in data:\n",
    "        multi_mean1[i] = np.mean(data[i],axis =0)\n",
    "    return multi_mean1"
   ]
  },
  {
   "cell_type": "code",
   "execution_count": 6,
   "metadata": {
    "collapsed": true
   },
   "outputs": [],
   "source": [
    "def find_covariance_multi(data_split,split_mean,n):\n",
    "    multi_intrim= {}\n",
    "    covar = {}\n",
    "    for i in data_split:\n",
    "        if i not in multi_intrim.keys():\n",
    "            multi_intrim[i] = []\n",
    "        for j in data_split[i]:\n",
    "            multi_intrim[i].append(j-split_mean[i])\n",
    "    for i in multi_intrim:\n",
    "        covar[i] = np.dot(np.array(multi_intrim[i]).transpose(),np.array(multi_intrim[i]))/float(n[i])\n",
    "    return covar"
   ]
  },
  {
   "cell_type": "code",
   "execution_count": 7,
   "metadata": {
    "collapsed": true
   },
   "outputs": [],
   "source": [
    "def training(x,y):\n",
    "    cl,n,alph = find_alpha(y)\n",
    "    data_seg = segregate_data(x,y,cl)\n",
    "    mean_cl = find_mean_multi(data_seg)\n",
    "    covariance_cl = find_covariance_multi(data_seg,mean_cl,n)\n",
    "    return alph,mean_cl,covariance_cl"
   ]
  },
  {
   "cell_type": "code",
   "execution_count": 8,
   "metadata": {
    "collapsed": true
   },
   "outputs": [],
   "source": [
    "def membership_multi(data,sigma,mean,prior):\n",
    "    mem = []\n",
    "    for i in mean:\n",
    "        det = np.linalg.det(sigma[i])\n",
    "        y = np.dot((data-mean[i]).transpose(),np.linalg.inv(sigma[i]))\n",
    "        n= np.dot(y,(data-mean[i]))\n",
    "        x = math.log(prior[i])-(math.log(det))/float(2)- (n)/float(2)\n",
    "        mem.append(x)\n",
    "    return mem"
   ]
  },
  {
   "cell_type": "code",
   "execution_count": 9,
   "metadata": {
    "collapsed": true
   },
   "outputs": [],
   "source": [
    "def determinist(data):\n",
    "    return data.index(max(data))"
   ]
  },
  {
   "cell_type": "code",
   "execution_count": 10,
   "metadata": {
    "collapsed": true
   },
   "outputs": [],
   "source": [
    "def find_class(data,clabels):\n",
    "    return clabels[data]"
   ]
  },
  {
   "cell_type": "code",
   "execution_count": 11,
   "metadata": {
    "collapsed": true
   },
   "outputs": [],
   "source": [
    "def prediction(data,sigma,mean,prior,clabels):\n",
    "    member = []\n",
    "    for i in data:\n",
    "        member.append(membership_multi(i,sigma,mean,prior))\n",
    "    determine =[]\n",
    "    for j in member:\n",
    "        determine.append(determinist(j))\n",
    "    predict = [find_class(i,clabels) for i in determine]\n",
    "    return predict"
   ]
  },
  {
   "cell_type": "code",
   "execution_count": 12,
   "metadata": {
    "collapsed": true
   },
   "outputs": [],
   "source": [
    "def mean_squrae_error(pred,y):\n",
    "    return sum([(i-j)**2 for i,j in zip(pred,y)])/float(len(pred))"
   ]
  },
  {
   "cell_type": "code",
   "execution_count": 13,
   "metadata": {
    "collapsed": true
   },
   "outputs": [],
   "source": [
    "def find_confusion_matrix(clabels,actual,predicted):\n",
    "    cm= []\n",
    "    for i in clabels:\n",
    "        tmp =[0]*len(clabels)\n",
    "        for j in range(len(actual)):\n",
    "            if actual[j][0] == i and actual[j][0] == predicted[j]:\n",
    "                tmp[clabels.index(i)] += 1\n",
    "            elif actual[j][0] == i and actual[j][0] != predicted[j]:\n",
    "                tmp[clabels.index(predicted[j])] += 1\n",
    "        cm.append(tmp)\n",
    "    return np.array(cm)"
   ]
  },
  {
   "cell_type": "code",
   "execution_count": 14,
   "metadata": {
    "collapsed": true
   },
   "outputs": [],
   "source": [
    "def find_accuracy(matrix):\n",
    "    return np.trace(matrix)*1.0/np.sum(matrix)"
   ]
  },
  {
   "cell_type": "code",
   "execution_count": 15,
   "metadata": {
    "collapsed": true
   },
   "outputs": [],
   "source": [
    "def find_precision(matrix):\n",
    "    pres = []\n",
    "    x = np.sum(matrix,axis=0)\n",
    "    for i in range(len(matrix)):\n",
    "        for j in range(len(matrix)):\n",
    "            if i == j:\n",
    "                pres.append(matrix[i][j]*1.0/x[i])\n",
    "    return pres"
   ]
  },
  {
   "cell_type": "code",
   "execution_count": 16,
   "metadata": {
    "collapsed": true
   },
   "outputs": [],
   "source": [
    "def find_recall(matrix):\n",
    "    rec = []\n",
    "    x = np.sum(matrix,axis=1)\n",
    "    for i in range(len(matrix)):\n",
    "        for j in range(len(matrix)):\n",
    "            if i == j:\n",
    "                rec.append(matrix[i][j]*1.0/x[i])\n",
    "    return rec"
   ]
  },
  {
   "cell_type": "code",
   "execution_count": 17,
   "metadata": {
    "collapsed": true
   },
   "outputs": [],
   "source": [
    "def find_fmeasure(prec,rec):\n",
    "    tmp = []\n",
    "    for i,j in zip(prec,rec):\n",
    "        tmp.append(2.0*(i*j)/(i+j))\n",
    "    return tmp"
   ]
  },
  {
   "cell_type": "code",
   "execution_count": 18,
   "metadata": {
    "collapsed": true
   },
   "outputs": [],
   "source": [
    "def roc(clabels,acutal,predicted):\n",
    "    confmatrix = find_confusion_matrix(clabels,acutal,predicted)\n",
    "    precision = find_precision(confmatrix)\n",
    "    recall = find_recall(confmatrix)\n",
    "    return precision,recall"
   ]
  },
  {
   "cell_type": "code",
   "execution_count": 19,
   "metadata": {
    "collapsed": true
   },
   "outputs": [],
   "source": [
    "def cross_validation(data, labels,clabels, n_folds=10,MSE = False):\n",
    "    cv = KFold(len(labels), n_folds,shuffle= True)\n",
    "    accuracies = []\n",
    "    precision_list = []\n",
    "    recall_list = []\n",
    "    training_MSE_list =[]\n",
    "    testing_MSE_list = []\n",
    "    i = 0\n",
    "    for train_ind, test_ind in cv: \n",
    "        train_alpha,train_mean,train_covar = training(data[train_ind], labels[train_ind])\n",
    "        training_MSE = mean_squrae_error(prediction(data[train_ind],train_covar,train_mean,train_alpha,clabels), labels[train_ind])\n",
    "        training_MSE_list.append(training_MSE)\n",
    "        predict = prediction(data[test_ind],train_covar,train_mean,train_alpha,clabels)\n",
    "        p,r = roc(clabels,labels[test_ind],predict)\n",
    "        precision_list.append(p)\n",
    "        recall_list.append(r)\n",
    "        testing_MSE_list.append(mean_squrae_error(predict,labels[test_ind]))\n",
    "        accuracies.append(accuracy_score(labels[test_ind], predict))\n",
    "        \n",
    "    if MSE == True:\n",
    "        for i in range(len(testing_MSE_list)):\n",
    "            print 'Fold',i,'Testing Error',testing_MSE_list[i]\n",
    "        print \"Average Mean Square Error\"\n",
    "        print \"Training Error \\t Testing Error\"\n",
    "        print np.mean(training_MSE_list),\"\\t\",np.mean(testing_MSE_list)\n",
    "    else:\n",
    "        for i in range(len(accuracies)):\n",
    "            print 'Fold',i,'Accuracy',accuracies[i]\n",
    "        print \"Average Accuracy \", np.mean(accuracies)\n",
    "    return precision_list,recall_list"
   ]
  },
  {
   "cell_type": "code",
   "execution_count": 20,
   "metadata": {
    "collapsed": true
   },
   "outputs": [],
   "source": [
    "def evaluation(clabels,acutal,predicted):\n",
    "    confmatrix = find_confusion_matrix(clabels,acutal,predicted)\n",
    "    print \"Confusion Matrix\"\n",
    "    print confmatrix\n",
    "    accuracy = find_accuracy(confmatrix)\n",
    "    print \"Accuracy\", accuracy\n",
    "    precision = find_precision(confmatrix)\n",
    "    print \"Precision\", precision\n",
    "    recall = find_recall(confmatrix)\n",
    "    print \"Recall\", recall\n",
    "    f_score =find_fmeasure(precision,recall)\n",
    "    print \"F_score\", f_score"
   ]
  },
  {
   "cell_type": "code",
   "execution_count": 21,
   "metadata": {
    "collapsed": false
   },
   "outputs": [
    {
     "name": "stdout",
     "output_type": "stream",
     "text": [
      "The Classses are [2, 4]\n",
      "The Classes Count  {2: 458, 4: 241}\n",
      "The prior probabiliy {2: 0.6552217453505007, 4: 0.3447782546494993}\n"
     ]
    }
   ],
   "source": [
    "classes,class_count,alpha = find_alpha(Y)\n",
    "print \"The Classses are\", classes\n",
    "print \"The Classes Count \", class_count\n",
    "print \"The prior probabiliy\", alpha\n",
    "multi_X_split =segregate_data(X,Y,classes)"
   ]
  },
  {
   "cell_type": "code",
   "execution_count": 22,
   "metadata": {
    "collapsed": false
   },
   "outputs": [
    {
     "name": "stdout",
     "output_type": "stream",
     "text": [
      "Mean for mulivariate features\n",
      "2 [ 2.95633188  1.32532751  1.44323144  1.36462882  2.12008734  1.30567686\n",
      "  2.10043668  1.29039301  1.06331878]\n",
      "shape of covariane matrix (9, 9)\n",
      "4 [ 7.19502075  6.57261411  6.56016598  5.54771784  5.29875519  7.56431535\n",
      "  5.97925311  5.86307054  2.58921162]\n",
      "shape of covariane matrix (9, 9)\n"
     ]
    }
   ],
   "source": [
    "multi_mean = find_mean_multi(multi_X_split)\n",
    "multi_covariance = find_covariance_multi(multi_X_split,multi_mean,class_count)\n",
    "print \"Mean for mulivariate features\"\n",
    "for i in multi_mean:\n",
    "    print i,multi_mean[i]\n",
    "    print \"shape of covariane matrix\" , multi_covariance[i].shape"
   ]
  },
  {
   "cell_type": "code",
   "execution_count": 23,
   "metadata": {
    "collapsed": false
   },
   "outputs": [
    {
     "name": "stdout",
     "output_type": "stream",
     "text": [
      "Predicted Value \t True Value \n",
      "2 \t\t\t[2]\n",
      "2 \t\t\t[4]\n",
      "2 \t\t\t[2]\n",
      "4 \t\t\t[4]\n",
      "4 \t\t\t[4]\n",
      "2 \t\t\t[2]\n",
      "2 \t\t\t[2]\n",
      "4 \t\t\t[4]\n",
      "2 \t\t\t[2]\n",
      "4 \t\t\t[4]\n"
     ]
    }
   ],
   "source": [
    "a,m,s = training(X,Y)\n",
    "predictions = prediction(X,s,m,a,classes)\n",
    "print \"Predicted Value \\t True Value \"\n",
    "for i in range(11,21):\n",
    "    print predictions[i],\"\\t\\t\\t\",Y[i]"
   ]
  },
  {
   "cell_type": "code",
   "execution_count": 24,
   "metadata": {
    "collapsed": false
   },
   "outputs": [
    {
     "name": "stdout",
     "output_type": "stream",
     "text": [
      "Fold 0 Accuracy 0.928571428571\n",
      "Fold 1 Accuracy 0.942857142857\n",
      "Fold 2 Accuracy 0.957142857143\n",
      "Fold 3 Accuracy 0.942857142857\n",
      "Fold 4 Accuracy 0.914285714286\n",
      "Fold 5 Accuracy 0.957142857143\n",
      "Fold 6 Accuracy 0.957142857143\n",
      "Fold 7 Accuracy 0.957142857143\n",
      "Fold 8 Accuracy 1.0\n",
      "Fold 9 Accuracy 0.95652173913\n",
      "Average Accuracy  0.951366459627\n"
     ]
    }
   ],
   "source": [
    "pre_roc, recall_roc = cross_validation(X, Y,classes)"
   ]
  },
  {
   "cell_type": "code",
   "execution_count": 25,
   "metadata": {
    "collapsed": false
   },
   "outputs": [
    {
     "name": "stdout",
     "output_type": "stream",
     "text": [
      "Fold 0 Testing Error [ 0.11428571]\n",
      "Fold 1 Testing Error [ 0.05714286]\n",
      "Fold 2 Testing Error [ 0.17142857]\n",
      "Fold 3 Testing Error [ 0.28571429]\n",
      "Fold 4 Testing Error [ 0.4]\n",
      "Fold 5 Testing Error [ 0.17142857]\n",
      "Fold 6 Testing Error [ 0.17142857]\n",
      "Fold 7 Testing Error [ 0.17142857]\n",
      "Fold 8 Testing Error [ 0.11428571]\n",
      "Fold 9 Testing Error [ 0.23188406]\n",
      "Average Mean Square Error\n",
      "Training Error \t Testing Error\n",
      "0.173580639463 \t0.188902691511\n"
     ]
    },
    {
     "data": {
      "text/plain": [
       "([[1.0, 0.91666666666666663],\n",
       "  [1.0, 0.96666666666666667],\n",
       "  [1.0, 0.88461538461538458],\n",
       "  [0.95454545454545459, 0.88461538461538458],\n",
       "  [1.0, 0.78125],\n",
       "  [0.97826086956521741, 0.91666666666666663],\n",
       "  [0.97674418604651159, 0.92592592592592593],\n",
       "  [1.0, 0.88461538461538458],\n",
       "  [0.97999999999999998, 0.94999999999999996],\n",
       "  [0.97619047619047616, 0.88888888888888884]],\n",
       " [[0.95833333333333337, 1.0],\n",
       "  [0.97560975609756095, 1.0],\n",
       "  [0.93617021276595747, 1.0],\n",
       "  [0.93333333333333335, 0.92000000000000004],\n",
       "  [0.84444444444444444, 1.0],\n",
       "  [0.95744680851063835, 0.95652173913043481],\n",
       "  [0.95454545454545459, 0.96153846153846156],\n",
       "  [0.93617021276595747, 1.0],\n",
       "  [0.97999999999999998, 0.94999999999999996],\n",
       "  [0.93181818181818177, 0.95999999999999996]])"
      ]
     },
     "execution_count": 25,
     "metadata": {},
     "output_type": "execute_result"
    }
   ],
   "source": [
    "cross_validation(X, Y, classes,MSE = True)"
   ]
  },
  {
   "cell_type": "code",
   "execution_count": 26,
   "metadata": {
    "collapsed": false
   },
   "outputs": [
    {
     "name": "stdout",
     "output_type": "stream",
     "text": [
      "Confusion Matrix\n",
      "[[435  23]\n",
      " [  6 235]]\n",
      "Accuracy 0.958512160229\n",
      "Precision [0.98639455782312924, 0.91085271317829453]\n",
      "Recall [0.94978165938864634, 0.975103734439834]\n",
      "F_score [0.96774193548387089, 0.94188376753507008]\n"
     ]
    }
   ],
   "source": [
    "evaluation(classes,Y,predictions)"
   ]
  },
  {
   "cell_type": "code",
   "execution_count": 27,
   "metadata": {
    "collapsed": false
   },
   "outputs": [
    {
     "name": "stdout",
     "output_type": "stream",
     "text": [
      "Precision\n",
      "Class2 \t\t Class4\n",
      "0.953488372093  \t\t  0.888888888889\n",
      "0.973684210526  \t\t  0.90625\n",
      "1.0  \t\t  0.863636363636\n",
      "1.0  \t\t  0.851851851852\n",
      "1.0  \t\t  0.793103448276\n",
      "0.951219512195  \t\t  0.965517241379\n",
      "1.0  \t\t  0.888888888889\n",
      "1.0  \t\t  0.875\n",
      "1.0  \t\t  1.0\n",
      "0.97619047619  \t\t  0.925925925926\n",
      "Mean Precision\n",
      "[ 0.98545826  0.89590626]\n"
     ]
    }
   ],
   "source": [
    "print \"Precision\"\n",
    "print\"Class2 \\t\\t Class4\"\n",
    "for i in pre_roc:\n",
    "    print i[0],\" \\t\\t \",i[1]\n",
    "print \"Mean Precision\"\n",
    "print np.mean(pre_roc,axis = 0)"
   ]
  },
  {
   "cell_type": "code",
   "execution_count": 28,
   "metadata": {
    "collapsed": false
   },
   "outputs": [
    {
     "name": "stdout",
     "output_type": "stream",
     "text": [
      "Recall\n",
      "Class2 \t\t Class4\n",
      "0.931818181818  \t\t  0.923076923077\n",
      "0.925  \t\t  0.966666666667\n",
      "0.941176470588  \t\t  1.0\n",
      "0.914893617021  \t\t  1.0\n",
      "0.872340425532  \t\t  1.0\n",
      "0.975  \t\t  0.933333333333\n",
      "0.934782608696  \t\t  1.0\n",
      "0.938775510204  \t\t  1.0\n",
      "1.0  \t\t  1.0\n",
      "0.953488372093  \t\t  0.961538461538\n",
      "Mean Recall\n",
      "[ 0.93872752  0.97846154]\n"
     ]
    }
   ],
   "source": [
    "print \"Recall\"\n",
    "print\"Class2 \\t\\t Class4\"\n",
    "for i in recall_roc:\n",
    "    print i[0],\" \\t\\t \",i[1]\n",
    "print \"Mean Recall\"\n",
    "print np.mean(recall_roc,axis = 0)"
   ]
  },
  {
   "cell_type": "code",
   "execution_count": 29,
   "metadata": {
    "collapsed": false
   },
   "outputs": [],
   "source": [
    "idx = np.argsort(recall_roc,axis = 0)\n",
    "pre_class1=[]\n",
    "pre_class2=[]\n",
    "rec_class1=[]\n",
    "rec_class2=[]\n",
    "for i in idx:\n",
    "    pre_class1.append(pre_roc[i[0]][0])\n",
    "    pre_class2.append(pre_roc[i[1]][1])\n",
    "    rec_class1.append(recall_roc[i[0]][0])\n",
    "    rec_class2.append(recall_roc[i[1]][1])"
   ]
  },
  {
   "cell_type": "code",
   "execution_count": 30,
   "metadata": {
    "collapsed": false
   },
   "outputs": [
    {
     "data": {
      "image/png": "[encoded data removed]",
      "text/plain": [
       "<matplotlib.figure.Figure at 0x75b64f0>"
      ]
     },
     "metadata": {},
     "output_type": "display_data"
    }
   ],
   "source": [
    "plt.plot(rec_class1,pre_class1,label='area = %0.2f' % np.mean(pre_class1), color=\"green\")\n",
    "plt.axis([rec_class1[0], rec_class1[len(rec_class1)-1],min(pre_class1),max(pre_class1)])\n",
    "plt.xlabel(\"Recall\")\n",
    "plt.ylabel(\"Precision\")\n",
    "plt.legend(loc=\"lower right\")\n",
    "plt.show()"
   ]
  },
  {
   "cell_type": "code",
   "execution_count": 31,
   "metadata": {
    "collapsed": false
   },
   "outputs": [
    {
     "data": {
      "image/png": "[encoded data removed]",
      "text/plain": [
       "<matplotlib.figure.Figure at 0x75c8df0>"
      ]
     },
     "metadata": {},
     "output_type": "display_data"
    }
   ],
   "source": [
    "plt.plot(rec_class2,pre_class2,label='area = %0.2f' % np.mean(pre_class2))\n",
    "plt.axis([rec_class2[0], rec_class2[len(rec_class1)-1],min(pre_class2),max(pre_class2)])\n",
    "plt.xlabel(\"Recall\")\n",
    "plt.ylabel(\"Precision\")\n",
    "plt.legend(loc=\"lower right\")\n",
    "plt.show()"
   ]
  },
  {
   "cell_type": "markdown",
   "metadata": {},
   "source": [
    "# 3. nD Kclass"
   ]
  },
  {
   "cell_type": "code",
   "execution_count": 32,
   "metadata": {
    "collapsed": false
   },
   "outputs": [],
   "source": [
    "filename = \"iris.data.txt\"\n",
    "r = io.open(filename, encoding='utf8').readlines()\n",
    "A = []\n",
    "B = []\n",
    "for i in r[0:150]:\n",
    "    x = i.split(',')\n",
    "    A.append(map(float,x[0:len(x)-1]))\n",
    "    if x[-1] == \"Iris-setosa\\n\":\n",
    "        B.append([1])\n",
    "    elif x[-1] == 'Iris-versicolor\\n':\n",
    "        B.append([2])\n",
    "    elif x[-1] == 'Iris-virginica\\n':\n",
    "        B.append([3])\n",
    "A = np.array(A)\n",
    "B = np.array(B)"
   ]
  },
  {
   "cell_type": "code",
   "execution_count": 33,
   "metadata": {
    "collapsed": false
   },
   "outputs": [
    {
     "name": "stdout",
     "output_type": "stream",
     "text": [
      "The Classses are [1, 2, 3]\n",
      "The Classes Count  {1: 50, 2: 50, 3: 50}\n",
      "The prior probabiliy {1: 0.3333333333333333, 2: 0.3333333333333333, 3: 0.3333333333333333}\n"
     ]
    }
   ],
   "source": [
    "classes_B,class_count_B,alpha_B = find_alpha(B)\n",
    "print \"The Classses are\", classes_B\n",
    "print \"The Classes Count \", class_count_B\n",
    "print \"The prior probabiliy\", alpha_B\n",
    "multi_X_splitA =segregate_data(A,B,classes_B)"
   ]
  },
  {
   "cell_type": "code",
   "execution_count": 34,
   "metadata": {
    "collapsed": false
   },
   "outputs": [
    {
     "name": "stdout",
     "output_type": "stream",
     "text": [
      "Mean for mulivariate features\n",
      "1 [ 5.006  3.418  1.464  0.244]\n",
      "shape of covariane matrix (4, 4)\n",
      "2 [ 5.936  2.77   4.26   1.326]\n",
      "shape of covariane matrix (4, 4)\n",
      "3 [ 6.588  2.974  5.552  2.026]\n",
      "shape of covariane matrix (4, 4)\n"
     ]
    }
   ],
   "source": [
    "multi_meanA = find_mean_multi(multi_X_splitA)\n",
    "multi_covarianceA = find_covariance_multi(multi_X_splitA,multi_meanA,class_count_B)\n",
    "print \"Mean for mulivariate features\"\n",
    "for i in multi_meanA:\n",
    "    print i,multi_meanA[i]\n",
    "    print \"shape of covariane matrix\" , multi_covarianceA[i].shape"
   ]
  },
  {
   "cell_type": "code",
   "execution_count": 35,
   "metadata": {
    "collapsed": false
   },
   "outputs": [
    {
     "name": "stdout",
     "output_type": "stream",
     "text": [
      "Predicted Value \t True Value \n",
      "1 \t\t\t[1]\n",
      "1 \t\t\t[1]\n",
      "1 \t\t\t[1]\n",
      "1 \t\t\t[1]\n",
      "1 \t\t\t[1]\n",
      "1 \t\t\t[1]\n",
      "1 \t\t\t[1]\n",
      "1 \t\t\t[1]\n",
      "1 \t\t\t[1]\n",
      "1 \t\t\t[1]\n"
     ]
    }
   ],
   "source": [
    "aA,mA,sA = training(A,B)\n",
    "predictionsA = prediction(A,sA,mA,aA,classes_B)\n",
    "print \"Predicted Value \\t True Value \"\n",
    "for i in range(11,21):\n",
    "    print predictionsA[i],\"\\t\\t\\t\",B[i]"
   ]
  },
  {
   "cell_type": "code",
   "execution_count": 36,
   "metadata": {
    "collapsed": false
   },
   "outputs": [
    {
     "name": "stdout",
     "output_type": "stream",
     "text": [
      "Fold 0 Accuracy 1.0\n",
      "Fold 1 Accuracy 1.0\n",
      "Fold 2 Accuracy 0.866666666667\n",
      "Fold 3 Accuracy 1.0\n",
      "Fold 4 Accuracy 0.933333333333\n",
      "Fold 5 Accuracy 1.0\n",
      "Fold 6 Accuracy 0.933333333333\n",
      "Fold 7 Accuracy 1.0\n",
      "Fold 8 Accuracy 1.0\n",
      "Fold 9 Accuracy 1.0\n",
      "Average Accuracy  0.973333333333\n"
     ]
    },
    {
     "data": {
      "text/plain": [
       "([[1.0, 1.0, 1.0],\n",
       "  [1.0, 1.0, 1.0],\n",
       "  [1.0, 0.66666666666666663, 0.8571428571428571],\n",
       "  [1.0, 1.0, 1.0],\n",
       "  [1.0, 1.0, 0.83333333333333337],\n",
       "  [1.0, 1.0, 1.0],\n",
       "  [1.0, 1.0, 0.83333333333333337],\n",
       "  [1.0, 1.0, 1.0],\n",
       "  [1.0, 1.0, 1.0],\n",
       "  [1.0, 1.0, 1.0]],\n",
       " [[1.0, 1.0, 1.0],\n",
       "  [1.0, 1.0, 1.0],\n",
       "  [1.0, 0.66666666666666663, 0.8571428571428571],\n",
       "  [1.0, 1.0, 1.0],\n",
       "  [1.0, 0.80000000000000004, 1.0],\n",
       "  [1.0, 1.0, 1.0],\n",
       "  [1.0, 0.8571428571428571, 1.0],\n",
       "  [1.0, 1.0, 1.0],\n",
       "  [1.0, 1.0, 1.0],\n",
       "  [1.0, 1.0, 1.0]])"
      ]
     },
     "execution_count": 36,
     "metadata": {},
     "output_type": "execute_result"
    }
   ],
   "source": [
    "cross_validation(A, B,classes_B)"
   ]
  },
  {
   "cell_type": "code",
   "execution_count": 37,
   "metadata": {
    "collapsed": false
   },
   "outputs": [
    {
     "name": "stdout",
     "output_type": "stream",
     "text": [
      "Fold 0 Testing Error [ 0.]\n",
      "Fold 1 Testing Error [ 0.06666667]\n",
      "Fold 2 Testing Error [ 0.06666667]\n",
      "Fold 3 Testing Error [ 0.06666667]\n",
      "Fold 4 Testing Error [ 0.]\n",
      "Fold 5 Testing Error [ 0.06666667]\n",
      "Fold 6 Testing Error [ 0.]\n",
      "Fold 7 Testing Error [ 0.]\n",
      "Fold 8 Testing Error [ 0.]\n",
      "Fold 9 Testing Error [ 0.]\n",
      "Average Mean Square Error\n",
      "Training Error \t Testing Error\n",
      "0.02 \t0.0266666666667\n"
     ]
    },
    {
     "data": {
      "text/plain": [
       "([[1.0, 1.0, 1.0],\n",
       "  [1.0, 1.0, 0.88888888888888884],\n",
       "  [1.0, 1.0, 0.80000000000000004],\n",
       "  [1.0, 0.80000000000000004, 1.0],\n",
       "  [1.0, 1.0, 1.0],\n",
       "  [1.0, 1.0, 0.83333333333333337],\n",
       "  [1.0, 1.0, 1.0],\n",
       "  [1.0, 1.0, 1.0],\n",
       "  [1.0, 1.0, 1.0],\n",
       "  [1.0, 1.0, 1.0]],\n",
       " [[1.0, 1.0, 1.0],\n",
       "  [1.0, 0.75, 1.0],\n",
       "  [1.0, 0.80000000000000004, 1.0],\n",
       "  [1.0, 1.0, 0.80000000000000004],\n",
       "  [1.0, 1.0, 1.0],\n",
       "  [1.0, 0.8571428571428571, 1.0],\n",
       "  [1.0, 1.0, 1.0],\n",
       "  [1.0, 1.0, 1.0],\n",
       "  [1.0, 1.0, 1.0],\n",
       "  [1.0, 1.0, 1.0]])"
      ]
     },
     "execution_count": 37,
     "metadata": {},
     "output_type": "execute_result"
    }
   ],
   "source": [
    "cross_validation(A, B,classes_B,MSE=True)"
   ]
  },
  {
   "cell_type": "code",
   "execution_count": 38,
   "metadata": {
    "collapsed": false
   },
   "outputs": [
    {
     "name": "stdout",
     "output_type": "stream",
     "text": [
      "Confusion Matrix\n",
      "[[50  0  0]\n",
      " [ 0 48  2]\n",
      " [ 0  1 49]]\n",
      "Accuracy 0.98\n",
      "Precision [1.0, 0.97959183673469385, 0.96078431372549022]\n",
      "Recall [1.0, 0.95999999999999996, 0.97999999999999998]\n",
      "F_score [1.0, 0.96969696969696972, 0.97029702970297016]\n"
     ]
    }
   ],
   "source": [
    "evaluation(classes_B,B,predictionsA)"
   ]
  }
 ],
 "metadata": {
  "kernelspec": {
   "display_name": "Python 2",
   "language": "python",
   "name": "python2"
  },
  "language_info": {
   "codemirror_mode": {
    "name": "ipython",
    "version": 2
   },
   "file_extension": ".py",
   "mimetype": "text/x-python",
   "name": "python",
   "nbconvert_exporter": "python",
   "pygments_lexer": "ipython2",
   "version": "2.7.10"
  }
 },
 "nbformat": 4,
 "nbformat_minor": 0
}
