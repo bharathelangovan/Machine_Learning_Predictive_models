{
 "cells": [
  {
   "cell_type": "code",
   "execution_count": 147,
   "metadata": {
    "collapsed": false
   },
   "outputs": [
    {
     "data": {
      "image/png": "[encoded data removed]",
      "text/plain": [
       "<matplotlib.figure.Figure at 0x7502eb0>"
      ]
     },
     "metadata": {},
     "output_type": "display_data"
    }
   ],
   "source": [
    "from sklearn.datasets import fetch_mldata\n",
    "import numpy as np\n",
    "import os\n",
    "import gc\n",
    "from pylab import *\n",
    "\n",
    "mnist = fetch_mldata('MNIST original')\n",
    "mnist.data.shape\n",
    "mnist.target.shape\n",
    "np.unique(mnist.target)\n",
    "\n",
    "X, y = mnist.data / 255., mnist.target\n",
    "X_train, X_test = X[:60000], X[60000:]\n",
    "y_train, y_test = y[:60000], y[60000:]\n",
    "X_train.shape\n",
    "y_train.shape\n",
    "size=len(y_train)\n",
    "\n",
    "## extract \"3\" digits and show their average\"\n",
    "ind = [ k for k in range(size) if y_train[k]==3 ]\n",
    "extracted_images=X_train[ind,:]\n",
    "\n",
    "mean_image=extracted_images.mean(axis=0)\n",
    "imshow(mean_image.reshape(28,28), cmap=cm.gray)\n",
    "show()"
   ]
  },
  {
   "cell_type": "code",
   "execution_count": 2,
   "metadata": {
    "collapsed": false
   },
   "outputs": [],
   "source": [
    "import numpy as np\n",
    "import math\n",
    "from copy import deepcopy\n",
    "from sklearn.cross_validation import KFold\n",
    "from sklearn.linear_model import LogisticRegression\n",
    "from sklearn.preprocessing import PolynomialFeatures\n",
    "from sklearn.metrics import accuracy_score, confusion_matrix, precision_score,recall_score,f1_score\n",
    "import matplotlib.pyplot as plt\n",
    "%matplotlib inline\n",
    "import io"
   ]
  },
  {
   "cell_type": "code",
   "execution_count": 3,
   "metadata": {
    "collapsed": false
   },
   "outputs": [],
   "source": [
    "def create_data(data):\n",
    "    z = data\n",
    "    for j in z:\n",
    "        j.insert(0,1)   \n",
    "    return z"
   ]
  },
  {
   "cell_type": "code",
   "execution_count": 4,
   "metadata": {
    "collapsed": true
   },
   "outputs": [],
   "source": [
    "def find_alpha(class_labels):\n",
    "    alpha1 = {}\n",
    "    class_count1 = {}\n",
    "    for i in class_labels:\n",
    "        if i not in class_count1.keys():\n",
    "            class_count1[i] = 1\n",
    "        else:\n",
    "            class_count1[i] += 1\n",
    "    classes1 = class_count1.keys()\n",
    "    for j in  class_count1:\n",
    "        alpha1[j] = class_count1[j]*1.0/len(class_labels)\n",
    "    return classes1,class_count1,alpha1"
   ]
  },
  {
   "cell_type": "code",
   "execution_count": 5,
   "metadata": {
    "collapsed": true
   },
   "outputs": [],
   "source": [
    "def map_high_dimension(Data,degree):\n",
    "    polyfeat_object = PolynomialFeatures(degree)\n",
    "    hd_data = polyfeat_object.fit_transform(Data)\n",
    "    return hd_data"
   ]
  },
  {
   "cell_type": "code",
   "execution_count": 6,
   "metadata": {
    "collapsed": true
   },
   "outputs": [],
   "source": [
    "def segregate_data(data,labels,clabels):\n",
    "    multi_X = {}\n",
    "    for i in range(len(clabels)):\n",
    "        if clabels[i] not in multi_X.keys():\n",
    "            multi_X[clabels[i]] = []\n",
    "        for j in range(len(labels)):\n",
    "            if labels[j][0] == clabels[i]:\n",
    "                multi_X[clabels[i]].append(data[j]) \n",
    "    for i in multi_X:\n",
    "        multi_X[i] = np.array(multi_X[i])\n",
    "    return multi_X"
   ]
  },
  {
   "cell_type": "code",
   "execution_count": 7,
   "metadata": {
    "collapsed": true
   },
   "outputs": [],
   "source": [
    "def find_sigmoid(theta,data):\n",
    "    sigmoid = []\n",
    "    for i in data:\n",
    "        x = np.dot(theta.transpose(),i)\n",
    "        sigmoid.append([1.0/(1+np.exp(-x))])\n",
    "    return np.array(sigmoid)"
   ]
  },
  {
   "cell_type": "code",
   "execution_count": 26,
   "metadata": {
    "collapsed": true
   },
   "outputs": [],
   "source": [
    "def gradient_descent(x, y, theta_assume, learning_rate, interation_count):\n",
    "    theta = np.random.rand(len(x[0]))/10000\n",
    "    for i in range(interation_count):\n",
    "        h = find_sigmoid(theta,x)\n",
    "        new = learning_rate*(np.sum((h-y)*x,axis = 0))\n",
    "        theta = theta - new\n",
    "    return theta"
   ]
  },
  {
   "cell_type": "code",
   "execution_count": 27,
   "metadata": {
    "collapsed": true
   },
   "outputs": [],
   "source": [
    "def prediction(theta,data):\n",
    "    sigmoid = find_sigmoid(theta,data)\n",
    "    predict = []\n",
    "    for i in sigmoid:\n",
    "        if i[0] > 0.5:\n",
    "            predict.append([1])\n",
    "        elif i[0] < 0.5:\n",
    "            predict.append([0])\n",
    "    return np.array(predict)"
   ]
  },
  {
   "cell_type": "code",
   "execution_count": 28,
   "metadata": {
    "collapsed": true
   },
   "outputs": [],
   "source": [
    "def mean_squrae_error(pred,y):\n",
    "    return sum([(i-j)**2 for i,j in zip(pred,y)])/float(len(pred))"
   ]
  },
  {
   "cell_type": "code",
   "execution_count": 29,
   "metadata": {
    "collapsed": true
   },
   "outputs": [],
   "source": [
    "def find_confusion_matrix(clabels,actual,predicted):\n",
    "    cm= []\n",
    "    for i in clabels:\n",
    "        tmp =[0]*len(clabels)\n",
    "        for j in range(len(actual)):\n",
    "            if actual[j] == i and actual[j] == predicted[j][0]:\n",
    "                tmp[clabels.index(i)] += 1\n",
    "            elif actual[j] == i and actual[j] != predicted[j][0]:\n",
    "                tmp[clabels.index(predicted[j][0])] += 1\n",
    "        cm.append(tmp)\n",
    "    return np.array(cm)"
   ]
  },
  {
   "cell_type": "code",
   "execution_count": 30,
   "metadata": {
    "collapsed": true
   },
   "outputs": [],
   "source": [
    "def find_accuracy(matrix):\n",
    "    return np.trace(matrix)*1.0/np.sum(matrix)"
   ]
  },
  {
   "cell_type": "code",
   "execution_count": 31,
   "metadata": {
    "collapsed": true
   },
   "outputs": [],
   "source": [
    "def find_precision(matrix):\n",
    "    pres = []\n",
    "    x = np.sum(matrix,axis=0)\n",
    "    for i in range(len(matrix)):\n",
    "        for j in range(len(matrix)):\n",
    "            if i == j:\n",
    "                pres.append(matrix[i][j]*1.0/x[i])\n",
    "    return pres"
   ]
  },
  {
   "cell_type": "code",
   "execution_count": 32,
   "metadata": {
    "collapsed": true
   },
   "outputs": [],
   "source": [
    "def find_recall(matrix):\n",
    "    rec = []\n",
    "    x = np.sum(matrix,axis=1)\n",
    "    for i in range(len(matrix)):\n",
    "        for j in range(len(matrix)):\n",
    "            if i == j:\n",
    "                rec.append(matrix[i][j]*1.0/x[i])\n",
    "    return rec"
   ]
  },
  {
   "cell_type": "code",
   "execution_count": 33,
   "metadata": {
    "collapsed": true
   },
   "outputs": [],
   "source": [
    "def find_fmeasure(prec,rec):\n",
    "    tmp = []\n",
    "    for i,j in zip(prec,rec):\n",
    "        tmp.append(2.0*(i*j)/(i+j))\n",
    "    return tmp"
   ]
  },
  {
   "cell_type": "code",
   "execution_count": 34,
   "metadata": {
    "collapsed": true
   },
   "outputs": [],
   "source": [
    "def roc(clabels,acutal,predicted):\n",
    "    confmatrix = find_confusion_matrix(clabels,acutal,predicted)\n",
    "    precision = find_precision(confmatrix)\n",
    "    recall = find_recall(confmatrix)\n",
    "    return precision,recall,confmatrix"
   ]
  },
  {
   "cell_type": "code",
   "execution_count": 35,
   "metadata": {
    "collapsed": true
   },
   "outputs": [],
   "source": [
    "def cross_validation(data, labels,clabels, n_folds=10,MSE = False):\n",
    "    cv = KFold(len(labels), n_folds,shuffle= True)\n",
    "    accuracies = []\n",
    "    precision_list = []\n",
    "    confusion = []\n",
    "    recall_list = []\n",
    "    training_MSE_list =[]\n",
    "    testing_MSE_list = []\n",
    "    i = 0\n",
    "    for train_ind, test_ind in cv: \n",
    "        train_theta = gradient_descent(data[train_ind], labels[train_ind],0.0001,0.0001,300)\n",
    "        training_MSE = mean_squrae_error(prediction(train_theta,data[train_ind]), labels[train_ind])\n",
    "        training_MSE_list.append(training_MSE)\n",
    "        predict = prediction(train_theta,data[test_ind])\n",
    "        p,r,cm = roc(clabels,labels[test_ind],predict)\n",
    "        precision_list.append(p)\n",
    "        recall_list.append(r)\n",
    "        confusion.append(cm)\n",
    "        testing_MSE_list.append(mean_squrae_error(predict,labels[test_ind]))\n",
    "        accuracies.append(accuracy_score(labels[test_ind], predict))\n",
    "        \n",
    "    if MSE == True:\n",
    "        for i in range(len(testing_MSE_list)):\n",
    "            print 'Fold',i,'Testing Error',testing_MSE_list[i]\n",
    "        print \"Average Mean Square Error\"\n",
    "        print \"Training Error \\t Testing Error\"\n",
    "        print np.mean(training_MSE_list),\"\\t\",np.mean(testing_MSE_list)\n",
    "    else:\n",
    "        for i in range(len(accuracies)):\n",
    "            print 'Fold',i,'Accuracy',accuracies[i]\n",
    "        print \"Average Accuracy \", np.mean(accuracies)\n",
    "    return precision_list,recall_list,training_MSE_list,confusion"
   ]
  },
  {
   "cell_type": "code",
   "execution_count": 183,
   "metadata": {
    "collapsed": true
   },
   "outputs": [],
   "source": [
    "def softmax(theta,data):\n",
    "    soft = {}\n",
    "    for i in data:\n",
    "        s = 0\n",
    "        for j in theta:\n",
    "            s = s + np.exp(np.dot(theta[j].transpose(),i))\n",
    "        for k in theta:\n",
    "            prodx = np.exp(np.dot(theta[k].transpose(),i))\n",
    "            if k not in soft.keys():\n",
    "                soft[k] = [[(prodx*1.0)/s]]\n",
    "            else:\n",
    "                soft[k].append([(prodx*1.0)/s])\n",
    "    return soft"
   ]
  },
  {
   "cell_type": "code",
   "execution_count": 37,
   "metadata": {
    "collapsed": true
   },
   "outputs": [],
   "source": [
    "def indicator(y,cl):\n",
    "    ind = {}\n",
    "    for k in cl:\n",
    "        for l in y:\n",
    "            if l == k:\n",
    "                if k not in ind.keys():\n",
    "                    ind[k] = [[1]]\n",
    "                else:\n",
    "                    ind[k].append([1])\n",
    "            else:\n",
    "                if k not in ind.keys():\n",
    "                    ind[k] = [[0]]\n",
    "                else:\n",
    "                    ind[k].append([0])\n",
    "    return ind"
   ]
  },
  {
   "cell_type": "code",
   "execution_count": 198,
   "metadata": {
    "collapsed": true
   },
   "outputs": [],
   "source": [
    "def pr(d,data):\n",
    "    data1 = []\n",
    "    for i in range(len(data)):\n",
    "        data1.append(d[i] * data[i])\n",
    "    return data1"
   ]
  },
  {
   "cell_type": "code",
   "execution_count": 192,
   "metadata": {
    "collapsed": true
   },
   "outputs": [],
   "source": [
    "def gradient_descent_soft(x, y, theta_assume, learning_rate, interation_count,classes):\n",
    "    thetas = {}\n",
    "    theta = np.random.rand(len(classes),len(x[0]))/10000000\n",
    "    for i in classes:\n",
    "        thetas[i] = theta[int(i)]\n",
    "    indicators = indicator(y,classes)\n",
    "    for i in range(interation_count):\n",
    "        h = softmax(thetas,x)\n",
    "        for i in h:\n",
    "            d = np.array(h[i])-np.array(indicators[i])\n",
    "            d1 = pr(d,x)\n",
    "            sum1 = np.sum(d1,axis =0)                            \n",
    "            new = learning_rate*sum1\n",
    "            thetas[i] = thetas[i] - new\n",
    "    return thetas"
   ]
  },
  {
   "cell_type": "code",
   "execution_count": 171,
   "metadata": {
    "collapsed": true
   },
   "outputs": [],
   "source": [
    "def predict_kclass(theta,data,cl):\n",
    "    pred = []\n",
    "    predi = []\n",
    "    for i in data:\n",
    "        tmp = []\n",
    "        for j in theta:\n",
    "            tmp.append((j,np.dot(theta[j].transpose(),i)))\n",
    "        pred.append(tmp)\n",
    "    for i in pred:\n",
    "        predi.append([max(i,key=lambda item:item[1])[0]])\n",
    "    return predi"
   ]
  },
  {
   "cell_type": "code",
   "execution_count": 49,
   "metadata": {
    "collapsed": true
   },
   "outputs": [],
   "source": [
    "def cross_validation_kclass(data, labels,clabels, n_folds=10):\n",
    "    cv = KFold(len(labels), n_folds,shuffle= True)\n",
    "    precision_list = []\n",
    "    confusion = []\n",
    "    recall_list = []\n",
    "    training_MSE_list =[]\n",
    "    testing_MSE_list = []\n",
    "    i = 0\n",
    "    for train_ind, test_ind in cv: \n",
    "        train_theta = gradient_descent_soft(data[train_ind], labels[train_ind],0.0000001,0.0001,300,clabels)\n",
    "        training_MSE = mean_squrae_error(predict_kclass(train_theta,data[train_ind],clabels), labels[train_ind])\n",
    "        training_MSE_list.append(training_MSE)\n",
    "        predict = predict_kclass(train_theta,data[test_ind],clabels)\n",
    "        p,r,cm = roc(clabels,labels[test_ind],predict)\n",
    "        precision_list.append(p)\n",
    "        recall_list.append(r)\n",
    "        confusion.append(cm)\n",
    "        testing_MSE_list.append(mean_squrae_error(predict,labels[test_ind]))\n",
    "    for i in range(len(testing_MSE_list)):\n",
    "        print 'Fold',i,'Testing Error',testing_MSE_list[i]\n",
    "    print \"Average Mean Square Error\"\n",
    "    print \"Training Error \\t Testing Error\"\n",
    "    print np.mean(training_MSE_list),\"\\t\",np.mean(testing_MSE_list)\n",
    "    return precision_list,recall_list,training_MSE_list,confusion"
   ]
  },
  {
   "cell_type": "code",
   "execution_count": 50,
   "metadata": {
    "collapsed": true
   },
   "outputs": [],
   "source": [
    "def evaluation(clabels,acutal,predicted):\n",
    "    confmatrix = find_confusion_matrix(clabels,acutal,predicted)\n",
    "    print \"Confusion Matrix\"\n",
    "    print confmatrix\n",
    "    accuracy = find_accuracy(confmatrix)\n",
    "    print \"Accuracy\", accuracy\n",
    "    precision = find_precision(confmatrix)\n",
    "    print \"Precision\", precision\n",
    "    recall = find_recall(confmatrix)\n",
    "    print \"Recall\", recall\n",
    "    f_score =find_fmeasure(precision,recall)\n",
    "    print \"F_score\", f_score"
   ]
  },
  {
   "cell_type": "code",
   "execution_count": 51,
   "metadata": {
    "collapsed": false
   },
   "outputs": [],
   "source": [
    "\"\"\"Z= deepcopy(X_train)\n",
    "Z = create_data(Z)\"\"\"\n",
    "#Z = np.array(Z)\n",
    "\n",
    "classes,class_count,alpha = find_alpha(y_train)"
   ]
  },
  {
   "cell_type": "code",
   "execution_count": 52,
   "metadata": {
    "collapsed": false
   },
   "outputs": [],
   "source": [
    "soft_theta = gradient_descent_soft(X_train,y_train,0.0001,0.0001,300,classes)"
   ]
  },
  {
   "cell_type": "code",
   "execution_count": 53,
   "metadata": {
    "collapsed": false
   },
   "outputs": [],
   "source": [
    "xx = predict_kclass(soft_theta,X_test,classes)"
   ]
  },
  {
   "cell_type": "code",
   "execution_count": 54,
   "metadata": {
    "collapsed": false
   },
   "outputs": [
    {
     "name": "stdout",
     "output_type": "stream",
     "text": [
      "Confusion Matrix\n",
      "[[ 980    0    0    0    0    0    0    0    0    0]\n",
      " [1135    0    0    0    0    0    0    0    0    0]\n",
      " [1032    0    0    0    0    0    0    0    0    0]\n",
      " [1010    0    0    0    0    0    0    0    0    0]\n",
      " [ 982    0    0    0    0    0    0    0    0    0]\n",
      " [ 892    0    0    0    0    0    0    0    0    0]\n",
      " [ 958    0    0    0    0    0    0    0    0    0]\n",
      " [1028    0    0    0    0    0    0    0    0    0]\n",
      " [ 974    0    0    0    0    0    0    0    0    0]\n",
      " [1009    0    0    0    0    0    0    0    0    0]]\n",
      "Accuracy 0.098\n",
      "Precision [0.098000000000000004, nan, nan, nan, nan, nan, nan, nan, nan, nan]\n",
      "Recall [1.0, 0.0, 0.0, 0.0, 0.0, 0.0, 0.0, 0.0, 0.0, 0.0]\n",
      "F_score [0.1785063752276867, nan, nan, nan, nan, nan, nan, nan, nan, nan]\n"
     ]
    },
    {
     "name": "stderr",
     "output_type": "stream",
     "text": [
      "c:\\python27\\lib\\site-packages\\ipykernel\\__main__.py:7: RuntimeWarning: invalid value encountered in double_scalars\n"
     ]
    }
   ],
   "source": [
    "evaluation(classes,y_test,xx)"
   ]
  },
  {
   "cell_type": "code",
   "execution_count": 64,
   "metadata": {
    "collapsed": false
   },
   "outputs": [
    {
     "data": {
      "text/plain": [
       "[0.0, 1.0, 2.0, 3.0, 4.0, 5.0, 6.0, 7.0, 8.0, 9.0]"
      ]
     },
     "execution_count": 64,
     "metadata": {},
     "output_type": "execute_result"
    }
   ],
   "source": [
    "classes"
   ]
  },
  {
   "cell_type": "code",
   "execution_count": 55,
   "metadata": {
    "collapsed": false
   },
   "outputs": [
    {
     "data": {
      "text/plain": [
       "(60000, 784)"
      ]
     },
     "execution_count": 55,
     "metadata": {},
     "output_type": "execute_result"
    }
   ],
   "source": [
    "X_train.shape"
   ]
  },
  {
   "cell_type": "code",
   "execution_count": 59,
   "metadata": {
    "collapsed": false
   },
   "outputs": [
    {
     "data": {
      "text/plain": [
       "(100, 784)"
      ]
     },
     "execution_count": 59,
     "metadata": {},
     "output_type": "execute_result"
    }
   ],
   "source": [
    "X_train[0:100][:].shape"
   ]
  },
  {
   "cell_type": "code",
   "execution_count": 63,
   "metadata": {
    "collapsed": false
   },
   "outputs": [],
   "source": [
    "cld = {}\n",
    "for i in range(len(y_train)):\n",
    "    if y[i] not in cld.keys():\n",
    "        cld[y[i]] = [i]\n",
    "    else:\n",
    "        cld[y[i]].append(i)"
   ]
  },
  {
   "cell_type": "code",
   "execution_count": 65,
   "metadata": {
    "collapsed": false
   },
   "outputs": [],
   "source": [
    "cld1= {}\n",
    "for i in cld:\n",
    "    cld1[i] = (min(cld[i]),max(cld[i]))"
   ]
  },
  {
   "cell_type": "code",
   "execution_count": 199,
   "metadata": {
    "collapsed": false
   },
   "outputs": [],
   "source": [
    "X_new = []\n",
    "y_new = []\n",
    "for i in cld1:\n",
    "    x=cld1[i][0]+1000\n",
    "    y = cld1[i][0]+1100\n",
    "    for l in range(x,y):\n",
    "        X_new.append(X_train[l])\n",
    "        y_new.append(y_train[l])\n",
    "X_new = np.array(X_new)\n",
    "y_new = np.array(y_new)"
   ]
  },
  {
   "cell_type": "code",
   "execution_count": 200,
   "metadata": {
    "collapsed": false
   },
   "outputs": [],
   "source": [
    "soft_theta1 = gradient_descent_soft(X_new,y_new,0.0001,0.0001,300,classes)"
   ]
  },
  {
   "cell_type": "code",
   "execution_count": 202,
   "metadata": {
    "collapsed": false
   },
   "outputs": [],
   "source": [
    "xx1 = predict_kclass(soft_theta1,X_test,classes)"
   ]
  },
  {
   "cell_type": "code",
   "execution_count": 203,
   "metadata": {
    "collapsed": false
   },
   "outputs": [
    {
     "name": "stdout",
     "output_type": "stream",
     "text": [
      "Confusion Matrix\n",
      "[[ 942    0    2    2    0    6   18    1    9    0]\n",
      " [   0 1063   14    3    1    6    4    0   44    0]\n",
      " [  30   21  823   26   17    2   41   24   41    7]\n",
      " [   7    1   31  856    1   35   10   14   33   22]\n",
      " [   6    9    4    0  858    1   18    2   11   73]\n",
      " [  26    2    1   89   20  648   36   11   46   13]\n",
      " [  16    3   12    1   20   12  888    1    5    0]\n",
      " [   6   31   48    1   14    0    0  887    7   34]\n",
      " [  11   19    8   37   17   26   17   18  800   21]\n",
      " [  22   12   12   10   55   12    3   36   11  836]]\n",
      "Accuracy 0.8601\n",
      "Precision [0.8836772983114447, 0.91559000861326445, 0.86178010471204192, 0.83512195121951216, 0.85543369890329013, 0.86631016042780751, 0.85797101449275359, 0.89235412474849096, 0.79443892750744782, 0.83101391650099399]\n",
      "Recall [0.96122448979591835, 0.93656387665198237, 0.79748062015503873, 0.8475247524752475, 0.87372708757637474, 0.726457399103139, 0.92693110647181631, 0.86284046692607008, 0.82135523613963035, 0.82854311199207131]\n",
      "F_score [0.92082111436950154, 0.9259581881533101, 0.82838449924509305, 0.84127764127764126, 0.86448362720403027, 0.79024390243902443, 0.89111891620672357, 0.87734915924826906, 0.80767289247854612, 0.82977667493796525]\n"
     ]
    }
   ],
   "source": [
    "evaluation(classes,y_test,xx1)"
   ]
  }
 ],
 "metadata": {
  "kernelspec": {
   "display_name": "Python 2",
   "language": "python",
   "name": "python2"
  },
  "language_info": {
   "codemirror_mode": {
    "name": "ipython",
    "version": 2
   },
   "file_extension": ".py",
   "mimetype": "text/x-python",
   "name": "python",
   "nbconvert_exporter": "python",
   "pygments_lexer": "ipython2",
   "version": "2.7.10"
  }
 },
 "nbformat": 4,
 "nbformat_minor": 0
}
