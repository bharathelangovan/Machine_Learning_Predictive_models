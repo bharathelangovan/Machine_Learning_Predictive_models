{
 "cells": [
  {
   "cell_type": "code",
   "execution_count": 416,
   "metadata": {
    "collapsed": false
   },
   "outputs": [],
   "source": [
    "import io\n",
    "import numpy as np\n",
    "import matplotlib.pyplot as plt\n",
    "from copy import deepcopy\n",
    "from sklearn.linear_model import LinearRegression\n",
    "from sklearn.preprocessing import PolynomialFeatures\n",
    "from sklearn.cross_validation import KFold\n",
    "%matplotlib inline"
   ]
  },
  {
   "cell_type": "markdown",
   "metadata": {},
   "source": [
    "1.a. Read Data from the file"
   ]
  },
  {
   "cell_type": "code",
   "execution_count": 417,
   "metadata": {
    "collapsed": false
   },
   "outputs": [],
   "source": [
    "filename = \"svar-set1.dat.txt\"\n",
    "r = io.open(filename, encoding='utf8').readlines()\n",
    "X = []\n",
    "Y = []\n",
    "for i in r:\n",
    "    if i.split()[0] != '#':\n",
    "        tmp = i.split()\n",
    "        X.append([float(tmp[o]) for o in range(len(tmp)-1)])\n",
    "        Y.append([float(tmp[-1])])"
   ]
  },
  {
   "cell_type": "markdown",
   "metadata": {},
   "source": [
    "# 1.a. Plotting the Data"
   ]
  },
  {
   "cell_type": "code",
   "execution_count": 418,
   "metadata": {
    "collapsed": false
   },
   "outputs": [],
   "source": [
    "def graph_plot(x,y,x_name,y_name,style):\n",
    "    plt.plot(x,y,style)\n",
    "    plt.xlabel(x_name)\n",
    "    plt.ylabel(y_name)"
   ]
  },
  {
   "cell_type": "code",
   "execution_count": 419,
   "metadata": {
    "collapsed": false
   },
   "outputs": [
    {
     "data": {
      "image/png": "[encoded data removed]",
      "text/plain": [
       "<matplotlib.figure.Figure at 0x7f42e50>"
      ]
     },
     "metadata": {},
     "output_type": "display_data"
    }
   ],
   "source": [
    "graph_plot(X,Y,\"X\",\"Y\",'o')"
   ]
  },
  {
   "cell_type": "markdown",
   "metadata": {},
   "source": [
    "# 1.b. Fit Linear Model"
   ]
  },
  {
   "cell_type": "markdown",
   "metadata": {},
   "source": [
    "#### Function to Create Data Matrix"
   ]
  },
  {
   "cell_type": "code",
   "execution_count": 420,
   "metadata": {
    "collapsed": true
   },
   "outputs": [],
   "source": [
    "def create_data(data):\n",
    "    z = data\n",
    "    for j in z:\n",
    "        j.insert(0,1)   \n",
    "    return z"
   ]
  },
  {
   "cell_type": "markdown",
   "metadata": {},
   "source": [
    "#### Function to Create Polynomial Data Martrix of degree n"
   ]
  },
  {
   "cell_type": "code",
   "execution_count": 421,
   "metadata": {
    "collapsed": false
   },
   "outputs": [],
   "source": [
    "def create_polynomial(data,degree):\n",
    "    for i in range(2,degree+1):\n",
    "        for j in data:\n",
    "            j.insert(i,j[1]**i)\n",
    "    return data"
   ]
  },
  {
   "cell_type": "markdown",
   "metadata": {},
   "source": [
    "#### Function to find theta - Equivalent to fit function in Python"
   ]
  },
  {
   "cell_type": "code",
   "execution_count": 422,
   "metadata": {
    "collapsed": true
   },
   "outputs": [],
   "source": [
    "def find_theta(Data,Labels):\n",
    "    return np.linalg.solve((np.dot(np.array(Data).transpose(),np.array(Data))),\n",
    "                           (np.dot(np.array(Data).transpose(),np.array(Labels))))"
   ]
  },
  {
   "cell_type": "code",
   "execution_count": 423,
   "metadata": {
    "collapsed": true
   },
   "outputs": [],
   "source": [
    "def find_theta_linear(Data,Labels):\n",
    "    x = []\n",
    "    y = []\n",
    "    x = [[len(Data),sum([i[0] for i in Data])],\n",
    "        [sum([i[0] for i in Data]), sum([i[0]**2 for i in Data])]]\n",
    "    y = [[sum([i[0] for i in Labels])], [sum([i[0]*j[0] for i,j in zip(Data,Labels)])]]\n",
    "    return np.linalg.solve(np.array(x),np.array(y))"
   ]
  },
  {
   "cell_type": "code",
   "execution_count": 444,
   "metadata": {
    "collapsed": false
   },
   "outputs": [
    {
     "name": "stdout",
     "output_type": "stream",
     "text": [
      "theta [[ 0.26120329]\n",
      " [ 1.98610257]]\n"
     ]
    }
   ],
   "source": [
    "print \"theta\", find_theta_linear(X,Y)"
   ]
  },
  {
   "cell_type": "markdown",
   "metadata": {},
   "source": [
    "#### Function to Predict unknown - Equivalent to predict function in Python"
   ]
  },
  {
   "cell_type": "code",
   "execution_count": 425,
   "metadata": {
    "collapsed": false
   },
   "outputs": [],
   "source": [
    "def predict(t,z):\n",
    "    predictions = []\n",
    "    for i in z:\n",
    "        predictions.append(np.dot(t.transpose(),np.array(i)))\n",
    "    return predictions"
   ]
  },
  {
   "cell_type": "markdown",
   "metadata": {},
   "source": [
    "#### Function to find Mean Square Error"
   ]
  },
  {
   "cell_type": "code",
   "execution_count": 426,
   "metadata": {
    "collapsed": false
   },
   "outputs": [],
   "source": [
    "def mean_squrae_error(pred,y):\n",
    "    return sum([(i-j)**2 for i,j in zip(pred,y)])/len(pred)\n",
    "    "
   ]
  },
  {
   "cell_type": "markdown",
   "metadata": {},
   "source": [
    "### Function to create n equals folds of index for cross validation"
   ]
  },
  {
   "cell_type": "code",
   "execution_count": 427,
   "metadata": {
    "collapsed": true
   },
   "outputs": [],
   "source": [
    "def fold_indices(size, folds):\n",
    "    block_list = [size//folds for i in range(folds)]\n",
    "    if size%folds != 0:\n",
    "        for i in range(n%n_folds):\n",
    "            block_list[i] += 1\n",
    "    current = 0\n",
    "    indices = []\n",
    "    for x in block_list:\n",
    "        m,n = current, current + x\n",
    "        indices.append((m,n))\n",
    "        current = n\n",
    "    return indices"
   ]
  },
  {
   "cell_type": "markdown",
   "metadata": {},
   "source": [
    "### Cross Validation for n folds using manualy created fit and predict functions; Finding the Training Error and Testing Error"
   ]
  },
  {
   "cell_type": "code",
   "execution_count": 428,
   "metadata": {
    "collapsed": false
   },
   "outputs": [],
   "source": [
    "def cross_validation(data,labels,folds):\n",
    "    k_index = fold_indices(len(labels), folds)\n",
    "    Theta_list = []\n",
    "    training_MSE_list =[]\n",
    "    testing_MSE_list = []\n",
    "    for i in k_index:\n",
    "        Z_test = data[i[0]:i[1]]\n",
    "        Y_test = labels[i[0]:i[1]]\n",
    "        Z_train = []\n",
    "        Y_train = []\n",
    "        for j in k_index:\n",
    "            if i != j:\n",
    "                Z_train = Z_train + data[j[0]:j[1]]\n",
    "                Y_train = Y_train + labels[j[0]:j[1]]\n",
    "        Theta  = find_theta(Z_train,Y_train)\n",
    "        training_MSE = mean_squrae_error(predict(Theta,Z_train), Y_train)\n",
    "        pred = predict(Theta,Z_test)\n",
    "        MSE = mean_squrae_error(pred, Y_test)\n",
    "        Theta_list.append(Theta)\n",
    "        testing_MSE_list.append(MSE)\n",
    "        training_MSE_list.append(training_MSE)\n",
    "    return Theta_list, testing_MSE_list, training_MSE_list"
   ]
  },
  {
   "cell_type": "code",
   "execution_count": 429,
   "metadata": {
    "collapsed": false
   },
   "outputs": [],
   "source": [
    "Z= deepcopy(X)\n",
    "Z = create_data(Z)"
   ]
  },
  {
   "cell_type": "markdown",
   "metadata": {},
   "source": [
    "### The Training and Testing Error for Linear Model"
   ]
  },
  {
   "cell_type": "code",
   "execution_count": 430,
   "metadata": {
    "collapsed": false
   },
   "outputs": [
    {
     "name": "stdout",
     "output_type": "stream",
     "text": [
      "The theta, Training Errot and Testing Error for Linear Model for 10 folds\n",
      "Theta\t\tTraining Error\tTesting Error\n",
      "1.963818\t3.494482\t4.335186\n",
      "1.976376\t3.887770\t4.277045\n",
      "1.997490\t5.549540\t4.091733\n",
      "1.992833\t4.725401\t4.180044\n",
      "1.981711\t3.953828\t4.267194\n",
      "1.984229\t3.769533\t4.288279\n",
      "2.009146\t5.420900\t4.120873\n",
      "1.992156\t3.498455\t4.323401\n",
      "1.986986\t5.135499\t4.137732\n",
      "1.977350\t4.252117\t4.233439\n"
     ]
    }
   ],
   "source": [
    "thetas,test_mse,training_mse = cross_validation(Z,Y,10)\n",
    "print(\"The theta, Training Errot and Testing Error for Linear Model for 10 folds\")\n",
    "print(\"Theta\\t\\tTraining Error\\tTesting Error\")\n",
    "for i in range(len(training_mse)):\n",
    "    print \"%f\\t%f\\t%f\" %(thetas[i][1],test_mse[i][0],training_mse[i][0])"
   ]
  },
  {
   "cell_type": "code",
   "execution_count": 431,
   "metadata": {
    "collapsed": false
   },
   "outputs": [
    {
     "data": {
      "image/png": "[encoded data removed]",
      "text/plain": [
       "<matplotlib.figure.Figure at 0x7bf02d0>"
      ]
     },
     "metadata": {},
     "output_type": "display_data"
    }
   ],
   "source": [
    "Y_predicted = predict(find_theta(Z,Y),Z)\n",
    "#graph_plot(X,Y_predicted,\"X\",\"Y\",'k-')\n",
    "plt.plot(X,Y_predicted,'ro')\n",
    "plt.plot(X,Y,'bo')\n",
    "plt.xlabel(\"X\")\n",
    "plt.ylabel(\"Y\")\n",
    "plt.show()"
   ]
  },
  {
   "cell_type": "markdown",
   "metadata": {},
   "source": [
    "# 1.C. Compare results by Python Made functions"
   ]
  },
  {
   "cell_type": "markdown",
   "metadata": {},
   "source": [
    "### Cross Validation for n folds using Python Linear Regression fit and predict functions; Finding the Training Error and Testing Error"
   ]
  },
  {
   "cell_type": "code",
   "execution_count": 432,
   "metadata": {
    "collapsed": false
   },
   "outputs": [],
   "source": [
    "def cross_validation_python(data,labels,folds):\n",
    "    k_index = fold_indices(len(labels), folds)\n",
    "    x = LinearRegression()\n",
    "    Theta_list = []\n",
    "    training_MSE_list =[]\n",
    "    testing_MSE_list = []\n",
    "    for i in k_index:\n",
    "        Z_test = data[i[0]:i[1]]\n",
    "        Y_test = labels[i[0]:i[1]]\n",
    "        Z_train = []\n",
    "        Y_train = []\n",
    "        for j in k_index:\n",
    "            if i != j:\n",
    "                Z_train = Z_train + data[j[0]:j[1]]\n",
    "                Y_train = Y_train + labels[j[0]:j[1]]\n",
    "        x.fit(Z_train,Y_train)\n",
    "        Theta_list.append(x.coef_)\n",
    "        training_MSE = mean_squrae_error(x.predict(Z_train), Y_train)\n",
    "        pred = x.predict(Z_test)\n",
    "        MSE = mean_squrae_error(pred, Y_test)\n",
    "        testing_MSE_list.append(MSE)\n",
    "        training_MSE_list.append(training_MSE)\n",
    "    return Theta_list, testing_MSE_list, training_MSE_list"
   ]
  },
  {
   "cell_type": "code",
   "execution_count": 456,
   "metadata": {
    "collapsed": false
   },
   "outputs": [
    {
     "name": "stdout",
     "output_type": "stream",
     "text": [
      "The theta, Training Errot and Testing Error for Linear Model for 10 folds\n",
      "Theta\t\tTraining Error\tTesting Error\n",
      "1.963818\t4.335186\t3.494482\n",
      "1.976376\t4.277045\t3.887770\n",
      "1.997490\t4.091733\t5.549540\n",
      "1.992833\t4.180044\t4.725401\n",
      "1.981711\t4.267194\t3.953828\n",
      "1.984229\t4.288279\t3.769533\n",
      "2.009146\t4.120873\t5.420900\n",
      "1.992156\t4.323401\t3.498455\n",
      "1.986986\t4.137732\t5.135499\n",
      "1.977350\t4.233439\t4.252117\n",
      "Train Error Mean\tTest Error Mean\n",
      "4.22549268163 \t\t4.36875256474\n"
     ]
    }
   ],
   "source": [
    "thetas_py,test_mse_py,training_mse_py = cross_validation_python(Z,Y,10)\n",
    "print(\"The theta, Training Errot and Testing Error for Linear Model for 10 folds\")\n",
    "print(\"Theta\\t\\tTraining Error\\tTesting Error\")\n",
    "for i in range(len(training_mse)):\n",
    "    print \"%f\\t%f\\t%f\" %(thetas_py[i][0][1],training_mse_py[i][0],test_mse_py[i][0])\n",
    "print \"Train Error Mean\\tTest Error Mean\"\n",
    "print np.mean(training_mse_py),\"\\t\\t\",np.mean(test_mse_py)"
   ]
  },
  {
   "cell_type": "markdown",
   "metadata": {},
   "source": [
    "### Polynomial models on different subset of data"
   ]
  },
  {
   "cell_type": "code",
   "execution_count": 434,
   "metadata": {
    "collapsed": false
   },
   "outputs": [],
   "source": [
    "Zpoly = create_polynomial(deepcopy(Z),2)\n",
    "Zpoly2 = deepcopy(Z[:50])\n",
    "Zpoly3 = deepcopy(Z[50:100])\n",
    "Zpoly4 = deepcopy(Z[100:150])\n",
    "Zpoly5 = deepcopy(Z[150:])\n",
    "Zpoly2 = create_polynomial(Zpoly2,2)\n",
    "Zpoly3 = create_polynomial(Zpoly3,3)\n",
    "Zpoly4 = create_polynomial(Zpoly4,4)\n",
    "Zpoly5 = create_polynomial(Zpoly5,5)"
   ]
  },
  {
   "cell_type": "code",
   "execution_count": 458,
   "metadata": {
    "collapsed": false
   },
   "outputs": [
    {
     "name": "stdout",
     "output_type": "stream",
     "text": [
      "The theta, Training Errot and Testing Error for Polynomial Model with degree 2 for 10 folds\n",
      "Theta\t\t\tTraining Error\tTesting Error\n",
      "[[-3.83210238]\n",
      " [ 2.30021353]\n",
      " [-0.00596564]] \t3.461511\t\t1.027885\n",
      "[[-4.21095603]\n",
      " [ 2.32325261]\n",
      " [-0.00596991]] \t3.455339\t\t0.989537\n",
      "[[ -2.80025020e+00]\n",
      " [  2.17383216e+00]\n",
      " [ -2.37632095e-03]] \t3.464418\t\t0.945979\n",
      "[[-3.61265253]\n",
      " [ 2.2623591 ]\n",
      " [-0.00506385]] \t2.819259\t\t7.063362\n",
      "[[ -1.38322996e+00]\n",
      " [  2.05798934e+00]\n",
      " [ -1.93021657e-04]] \t3.184174\t\t3.907572\n",
      "[[-4.86613532]\n",
      " [ 2.38546695]\n",
      " [-0.00747365]] \t2.877953\t\t6.199019\n",
      "[[-3.79138488]\n",
      " [ 2.25000624]\n",
      " [-0.00387275]] \t3.270456\t\t2.787358\n",
      "[[-4.59610704]\n",
      " [ 2.35299942]\n",
      " [-0.00662151]] \t3.352850\t\t1.907278\n",
      "[[-5.65818754]\n",
      " [ 2.45380228]\n",
      " [-0.00848083]] \t2.905729\t\t6.422957\n",
      "[[-4.14898595]\n",
      " [ 2.31350895]\n",
      " [-0.0057609 ]] \t3.072809\t\t4.399787\n",
      "Train Error Mean\tTest Error Mean\n",
      "3.18644963764 \t\t3.56507336941\n"
     ]
    }
   ],
   "source": [
    "thetas_Zpoly2,test_mse_Zploy2,training_mse_Zpoly2 = cross_validation(Zpoly2,Y[:50],10)\n",
    "print(\"The theta, Training Errot and Testing Error for Polynomial Model with degree 2 for 10 folds\")\n",
    "print(\"Theta\\t\\t\\tTraining Error\\tTesting Error\")\n",
    "for i in range(len(training_mse)):\n",
    "    print thetas_Zpoly2[i] ,\"\\t%f\\t\\t%f\" %(training_mse_Zpoly2[i][0],test_mse_Zploy2[i][0])\n",
    "print \"Train Error Mean\\tTest Error Mean\"\n",
    "print np.mean(training_mse_Zpoly2),\"\\t\\t\",np.mean(test_mse_Zploy2)"
   ]
  },
  {
   "cell_type": "code",
   "execution_count": 464,
   "metadata": {
    "collapsed": false
   },
   "outputs": [
    {
     "name": "stdout",
     "output_type": "stream",
     "text": [
      " The theta, Training Errot and Testing Error for Linear Model for 10 folds\n",
      "Theta\t\t\tTraining Error\tTesting Error\n",
      "[[  2.47479118e+00]\n",
      " [  1.55858343e+00]\n",
      " [  2.94559378e-02]\n",
      " [ -6.33563059e-04]] \t4.418800\t\t7.653483\n",
      "[[  5.75156962e+00]\n",
      " [  1.13928856e+00]\n",
      " [  4.27502743e-02]\n",
      " [ -6.95010913e-04]] \t4.509041\t\t6.376062\n",
      "[[ -1.32611089e+01]\n",
      " [  4.71323821e+00]\n",
      " [ -1.65710119e-01]\n",
      " [  3.09710141e-03]] \t4.027673\t\t12.112275\n",
      "[[ -3.30333196e+00]\n",
      " [  2.84480056e+00]\n",
      " [ -5.40025257e-02]\n",
      " [  1.00668306e-03]] \t4.967308\t\t2.011624\n",
      "[[ -5.24204402e-01]\n",
      " [  2.27108087e+00]\n",
      " [ -1.92971725e-02]\n",
      " [  3.70201568e-04]] \t5.090600\t\t0.862397\n",
      "[[  8.51596696e+00]\n",
      " [  7.89718372e-01]\n",
      " [  5.57186219e-02]\n",
      " [ -8.18844452e-04]] \t4.210692\t\t9.674184\n",
      "[[ -3.12409090e+00]\n",
      " [  2.69644582e+00]\n",
      " [ -4.33994651e-02]\n",
      " [  8.04444596e-04]] \t4.547748\t\t5.910047\n",
      "[[ -2.77266805e+00]\n",
      " [  2.65712609e+00]\n",
      " [ -3.89281400e-02]\n",
      " [  6.65137484e-04]] \t4.833522\t\t3.302466\n",
      "[[ -3.90772342e+00]\n",
      " [  2.95542888e+00]\n",
      " [ -5.83713207e-02]\n",
      " [  1.03400609e-03]] \t4.682594\t\t4.998738\n",
      "[[ -8.55790622e-01]\n",
      " [  2.35211262e+00]\n",
      " [ -2.52401675e-02]\n",
      " [  4.91606385e-04]] \t4.815163\t\t3.257732\n",
      "Train Error Mean\tTest Error Mean\n",
      "4.61031408452 \t\t5.61590085627\n"
     ]
    }
   ],
   "source": [
    "thetas_Zpoly3,test_mse_Zploy3,training_mse_Zpoly3 = cross_validation(Zpoly3,Y[50:100],10)\n",
    "print(\"The theta, Training Errot and Testing Error for Linear Model for 10 folds\")\n",
    "print(\"Theta\\t\\t\\tTraining Error\\tTesting Error\")\n",
    "for i in range(len(training_mse)):\n",
    "    print thetas_Zpoly3[i] ,\"\\t%f\\t\\t%f\" %(training_mse_Zpoly3[i][0],test_mse_Zploy3[i][0])\n",
    "print \"Train Error Mean\\tTest Error Mean\"\n",
    "print np.mean(training_mse_Zpoly3),\"\\t\\t\",np.mean(test_mse_Zploy3)"
   ]
  },
  {
   "cell_type": "code",
   "execution_count": 465,
   "metadata": {
    "collapsed": false
   },
   "outputs": [
    {
     "name": "stdout",
     "output_type": "stream",
     "text": [
      "The theta, Training Errot and Testing Error for Linear Model for 10 folds\n",
      "Theta\t\t\tTraining Error\tTesting Error\n",
      "[[  7.89571345e+00]\n",
      " [  4.40277217e-01]\n",
      " [  1.32850405e-01]\n",
      " [ -5.11349948e-03]\n",
      " [  6.97052103e-05]] \t3.810678\t\t6.657468\n",
      "[[  2.57165728e+01]\n",
      " [ -3.59670655e+00]\n",
      " [  4.62918652e-01]\n",
      " [ -1.67363362e-02]\n",
      " [  2.18808573e-04]] \t4.232794\t\t1.935351\n",
      "[[  4.34514612e+01]\n",
      " [ -6.93764670e+00]\n",
      " [  6.72500751e-01]\n",
      " [ -2.20147737e-02]\n",
      " [  2.64008818e-04]] \t3.776859\t\t7.020499\n",
      "[[  2.25869700e+01]\n",
      " [ -2.80581108e+00]\n",
      " [  3.95284755e-01]\n",
      " [ -1.43668820e-02]\n",
      " [  1.89982828e-04]] \t4.129259\t\t2.756099\n",
      "[[  2.91839042e+01]\n",
      " [ -4.55694150e+00]\n",
      " [  5.52580805e-01]\n",
      " [ -2.00825834e-02]\n",
      " [  2.62690700e-04]] \t3.702394\t\t6.952521\n",
      "[[  3.10063324e+01]\n",
      " [ -5.21707897e+00]\n",
      " [  6.27783916e-01]\n",
      " [ -2.34432627e-02]\n",
      " [  3.13279052e-04]] \t4.064476\t\t3.530350\n",
      "[[  3.31240860e+01]\n",
      " [ -4.95471691e+00]\n",
      " [  5.46913260e-01]\n",
      " [ -1.88271234e-02]\n",
      " [  2.36593026e-04]] \t4.145387\t\t2.613941\n",
      "[[  5.75786083e+01]\n",
      " [ -1.08063838e+01]\n",
      " [  1.03640327e+00]\n",
      " [ -3.60641630e-02]\n",
      " [  4.54212688e-04]] \t3.712584\t\t7.140112\n",
      "[[  3.62875725e+01]\n",
      " [ -5.72208181e+00]\n",
      " [  6.17222965e-01]\n",
      " [ -2.15173389e-02]\n",
      " [  2.72642393e-04]] \t4.045604\t\t3.571881\n",
      "[[  4.28541976e+01]\n",
      " [ -7.97033669e+00]\n",
      " [  8.62136665e-01]\n",
      " [ -3.20732947e-02]\n",
      " [  4.29160373e-04]] \t3.650196\t\t8.235654\n",
      "Train Error Mean\tTest Error Mean\n",
      "3.92702308182 \t\t5.04138773883\n"
     ]
    }
   ],
   "source": [
    "thetas_Zpoly4,test_mse_Zploy4,training_mse_Zpoly4 = cross_validation(Zpoly4,Y[100:150],10)\n",
    "print(\"The theta, Training Errot and Testing Error for Linear Model for 10 folds\")\n",
    "print(\"Theta\\t\\t\\tTraining Error\\tTesting Error\")\n",
    "for i in range(len(training_mse)):\n",
    "    print thetas_Zpoly4[i] ,\"\\t%f\\t\\t%f\" %(training_mse_Zpoly4[i][0],test_mse_Zploy4[i][0])\n",
    "print \"Train Error Mean\\tTest Error Mean\"\n",
    "print np.mean(training_mse_Zpoly4),\"\\t\\t\",np.mean(test_mse_Zploy4)"
   ]
  },
  {
   "cell_type": "code",
   "execution_count": 466,
   "metadata": {
    "collapsed": false
   },
   "outputs": [
    {
     "name": "stdout",
     "output_type": "stream",
     "text": [
      "The theta, Training Errot and Testing Error for Linear Model for 10 folds\n",
      "Theta\t\t\tTraining Error\tTesting Error\n",
      "[[ -2.92002518e+01]\n",
      " [  6.61703965e+00]\n",
      " [ -2.51735859e-01]\n",
      " [  8.11155815e-03]\n",
      " [ -2.59124949e-04]\n",
      " [  4.63466855e-06]] \t3.668099\t\t6.196769\n",
      "[[  6.50859617e+01]\n",
      " [ -2.05175340e+01]\n",
      " [  2.75982273e+00]\n",
      " [ -1.53834360e-01]\n",
      " [  3.98340811e-03]\n",
      " [ -3.88819819e-05]] \t3.847823\t\t2.776385\n",
      "[[ -2.39663199e+01]\n",
      " [  6.00050720e+00]\n",
      " [ -2.77013128e-01]\n",
      " [  1.37282642e-02]\n",
      " [ -4.84637705e-04]\n",
      " [  7.29971448e-06]] \t3.781692\t\t3.331360\n",
      "[[  6.19995624e+01]\n",
      " [ -1.95271289e+01]\n",
      " [  2.63351505e+00]\n",
      " [ -1.46372404e-01]\n",
      " [  3.77601208e-03]\n",
      " [ -3.66590817e-05]] \t3.751500\t\t3.907112\n",
      "[[ -1.34246365e+02]\n",
      " [  3.73912072e+01]\n",
      " [ -3.67856297e+00]\n",
      " [  1.89477871e-01]\n",
      " [ -4.83849963e-03]\n",
      " [  4.89235195e-05]] \t3.341711\t\t8.019959\n",
      "[[ -5.54151803e+01]\n",
      " [  1.32455906e+01]\n",
      " [ -8.58075980e-01]\n",
      " [  3.21970607e-02]\n",
      " [ -6.35018998e-04]\n",
      " [  5.64698754e-06]] \t3.620137\t\t5.079889\n",
      "[[  1.35562500e+02]\n",
      " [ -4.09296896e+01]\n",
      " [  5.04580426e+00]\n",
      " [ -2.77108803e-01]\n",
      " [  7.18247121e-03]\n",
      " [ -7.09124163e-05]] \t3.452073\t\t6.994638\n",
      "[[ -3.38698761e+01]\n",
      " [  9.45195814e+00]\n",
      " [ -7.21991133e-01]\n",
      " [  4.02441171e-02]\n",
      " [ -1.21736882e-03]\n",
      " [  1.48911095e-05]] \t3.581798\t\t5.769042\n",
      "[[  1.20171019e+02]\n",
      " [ -3.18839768e+01]\n",
      " [  3.60568833e+00]\n",
      " [ -1.81110187e-01]\n",
      " [  4.31553401e-03]\n",
      " [ -3.92027479e-05]] \t3.838265\t\t3.509800\n",
      "[[ -1.34941154e+02]\n",
      " [  3.73708002e+01]\n",
      " [ -3.71309798e+00]\n",
      " [  1.95873528e-01]\n",
      " [ -5.16444693e-03]\n",
      " [  5.39996865e-05]] \t3.462131\t\t7.876460\n",
      "Train Error Mean\tTest Error Mean\n",
      "3.63452284733 \t\t5.34614143898\n"
     ]
    }
   ],
   "source": [
    "thetas_Zpoly5,test_mse_Zploy5,training_mse_Zpoly5 = cross_validation(Zpoly5,Y[150:],10)\n",
    "print(\"The theta, Training Errot and Testing Error for Linear Model for 10 folds\")\n",
    "print(\"Theta\\t\\t\\tTraining Error\\tTesting Error\")\n",
    "for i in range(len(training_mse)):\n",
    "    print thetas_Zpoly5[i] ,\"\\t%f\\t\\t%f\" %(training_mse_Zpoly5[i][0],test_mse_Zploy5[i][0])\n",
    "print \"Train Error Mean\\tTest Error Mean\"\n",
    "print np.mean(training_mse_Zpoly5),\"\\t\\t\",np.mean(test_mse_Zploy5)"
   ]
  },
  {
   "cell_type": "code",
   "execution_count": 446,
   "metadata": {
    "collapsed": false
   },
   "outputs": [
    {
     "data": {
      "image/png": "[encoded data removed]",
      "text/plain": [
       "<matplotlib.figure.Figure at 0x7a72810>"
      ]
     },
     "metadata": {},
     "output_type": "display_data"
    }
   ],
   "source": [
    "Y_predicted_poly2 = predict(find_theta(Zpoly,Y),Zpoly)\n",
    "plt.plot(X,Y_predicted_poly2,'rx')\n",
    "plt.plot(X,Y,'bo')\n",
    "plt.xlabel(\"X\")\n",
    "plt.ylabel(\"Y\")\n",
    "plt.show()"
   ]
  },
  {
   "cell_type": "code",
   "execution_count": 447,
   "metadata": {
    "collapsed": false
   },
   "outputs": [
    {
     "data": {
      "image/png": "[encoded data removed]",
      "text/plain": [
       "<matplotlib.figure.Figure at 0x5b7d2d0>"
      ]
     },
     "metadata": {},
     "output_type": "display_data"
    }
   ],
   "source": [
    "Zpoly_4 = create_polynomial(deepcopy(Z),4)\n",
    "Y_predicted_poly4 = predict(find_theta(Zpoly_4,Y),Zpoly_4)\n",
    "plt.plot(X,Y_predicted_poly4,'rx')\n",
    "plt.plot(X,Y,'bo')\n",
    "plt.xlabel(\"X\")\n",
    "plt.ylabel(\"Y\")\n",
    "plt.show()"
   ]
  },
  {
   "cell_type": "markdown",
   "metadata": {},
   "source": [
    "# 1.d Reduce the size of data and evaluate performance"
   ]
  },
  {
   "cell_type": "code",
   "execution_count": 491,
   "metadata": {
    "collapsed": false
   },
   "outputs": [],
   "source": [
    "test_size = int(0.1 *len(X))\n",
    "test_idx = len(Z) -test_size\n",
    "Z_new_test = Z[test_idx:]\n",
    "Y_new_test = Y[test_idx:]\n",
    "train_size = [90,75,50,25]\n",
    "Z_train_new = {}\n",
    "Y_train_new = {}\n",
    "for i in train_size:\n",
    "    train_idx = int((i*1.0/100)*len(Z))\n",
    "    Z_train_new[i] = Z[0:train_idx]\n",
    "    Y_train_new[i] = Y[0:train_idx]\n",
    "    "
   ]
  },
  {
   "cell_type": "code",
   "execution_count": 492,
   "metadata": {
    "collapsed": false
   },
   "outputs": [],
   "source": [
    "def analysis(train,knownl,test,unknownl):\n",
    "    predict_reduced = {}\n",
    "    MSE_reduced ={}\n",
    "    for i in train:\n",
    "        predict_reduced[i] = predict(find_theta(train[i],knownl[i]),test)\n",
    "        MSE_reduced[i] = mean_squrae_error(predict_reduced[i],unknownl)\n",
    "    return predict_reduced,MSE_reduced"
   ]
  },
  {
   "cell_type": "code",
   "execution_count": 493,
   "metadata": {
    "collapsed": false
   },
   "outputs": [],
   "source": [
    "new_predict,new_MSE = analysis(Z_train_new,Y_train_new,Z_new_test,Y_new_test)"
   ]
  },
  {
   "cell_type": "code",
   "execution_count": 497,
   "metadata": {
    "collapsed": false
   },
   "outputs": [
    {
     "name": "stdout",
     "output_type": "stream",
     "text": [
      "Mean error when the training data is some percentage of original data \n",
      "Percentage\tMean_Error\n",
      "25 \t\t4.11851132164\n",
      "90 \t\t4.25211689881\n",
      "75 \t\t4.26609161477\n",
      "50 \t\t4.0877489189\n"
     ]
    }
   ],
   "source": [
    "print \"Mean error when the training data is some percentage of original data \"\n",
    "print \"Percentage\\tMean_Error\"\n",
    "for i in new_MSE:\n",
    "    print i,\"\\t\\t\",np.mean(new_MSE[i])"
   ]
  }
 ],
 "metadata": {
  "kernelspec": {
   "display_name": "Python 2",
   "language": "python",
   "name": "python2"
  },
  "language_info": {
   "codemirror_mode": {
    "name": "ipython",
    "version": 2
   },
   "file_extension": ".py",
   "mimetype": "text/x-python",
   "name": "python",
   "nbconvert_exporter": "python",
   "pygments_lexer": "ipython2",
   "version": "2.7.10"
  }
 },
 "nbformat": 4,
 "nbformat_minor": 0
}
