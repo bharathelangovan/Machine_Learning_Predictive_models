{
 "cells": [
  {
   "cell_type": "code",
   "execution_count": 2,
   "metadata": {
    "collapsed": false
   },
   "outputs": [],
   "source": [
    "import numpy as np\n",
    "import math\n",
    "from sklearn.cross_validation import KFold\n",
    "from sklearn.linear_model import LogisticRegression\n",
    "from sklearn.metrics import accuracy_score, confusion_matrix, precision_score,recall_score,f1_score\n",
    "import io"
   ]
  },
  {
   "cell_type": "code",
   "execution_count": 3,
   "metadata": {
    "collapsed": false
   },
   "outputs": [],
   "source": [
    "filename = \"breast-cancer-wisconsin.data.txt\"\n",
    "r = io.open(filename, encoding='utf8').readlines()\n",
    "X = []\n",
    "Y = []\n",
    "for i in r:\n",
    "    x = i.split(',')\n",
    "    for j in range(1,len(x)-1):\n",
    "        try:\n",
    "            x[j] = int(x[j])\n",
    "        except ValueError:\n",
    "            x[j] = 0\n",
    "    X.append(map(int,x[1:len(x)-1]))\n",
    "    Y.append([int(x[-1])])"
   ]
  },
  {
   "cell_type": "code",
   "execution_count": 4,
   "metadata": {
    "collapsed": false
   },
   "outputs": [],
   "source": [
    "Y = np.array(Y)\n",
    "X = np.array(X)"
   ]
  },
  {
   "cell_type": "code",
   "execution_count": 5,
   "metadata": {
    "collapsed": true
   },
   "outputs": [],
   "source": [
    "def find_alpha(class_labels):\n",
    "    alpha1 = {}\n",
    "    class_count1 = {}\n",
    "    for i in class_labels:\n",
    "        if i[0] not in class_count1.keys():\n",
    "            class_count1[i[0]] = 1\n",
    "        else:\n",
    "            class_count1[i[0]] += 1\n",
    "    classes1 = class_count1.keys()\n",
    "    for j in  class_count1:\n",
    "        alpha1[j] = class_count1[j]*1.0/len(class_labels)\n",
    "    return classes1,class_count1,alpha1"
   ]
  },
  {
   "cell_type": "code",
   "execution_count": 6,
   "metadata": {
    "collapsed": true
   },
   "outputs": [],
   "source": [
    "def find_mean(data,labels,n):\n",
    "    feature_sum1 = {}\n",
    "    for i in range(len(labels)):\n",
    "        if labels[i][0] not in feature_sum1.keys():\n",
    "            feature_sum1[labels[i][0]] = data[i][0]\n",
    "        else:\n",
    "            feature_sum1[labels[i][0]] += data[i][0]\n",
    "    mean_class1 ={}\n",
    "    for i in n:\n",
    "        mean_class1[i] = feature_sum1[i]*1.0/n[i]\n",
    "    return mean_class1"
   ]
  },
  {
   "cell_type": "code",
   "execution_count": 7,
   "metadata": {
    "collapsed": true
   },
   "outputs": [],
   "source": [
    "def find_covariance(data,labels,mean,n):\n",
    "    covariance_class1 = {}\n",
    "    for i in range(len(labels)):\n",
    "        if labels[i][0] not in covariance_class1.keys():\n",
    "            covariance_class1[labels[i][0]] = (data[i][0] - mean[labels[i][0]])**2\n",
    "        else:\n",
    "            covariance_class1[labels[i][0]] += (data[i][0] - mean[labels[i][0]])**2\n",
    "    for i in covariance_class1:\n",
    "        covariance_class1[i] = covariance_class1[i]*1.0/n[i]\n",
    "    return covariance_class1"
   ]
  },
  {
   "cell_type": "code",
   "execution_count": 8,
   "metadata": {
    "collapsed": true
   },
   "outputs": [],
   "source": [
    "def training(x,y):\n",
    "    cl,n,alph = find_alpha(y)\n",
    "    mean_cl = find_mean(x,y,n)\n",
    "    covariance_cl = find_covariance(x,y,mean_cl,n)\n",
    "    return alph,mean_cl,covariance_cl"
   ]
  },
  {
   "cell_type": "code",
   "execution_count": 9,
   "metadata": {
    "collapsed": true
   },
   "outputs": [],
   "source": [
    "def membership(data,sigma,mean,prior):\n",
    "    mem = []\n",
    "    for i in mean:\n",
    "        y = (((data-mean[i])**2)*1.0)/(2*sigma[i]**2)\n",
    "        x = math.log(prior[i])-math.log(sigma[i])- y\n",
    "        mem.append(x)\n",
    "    return mem"
   ]
  },
  {
   "cell_type": "code",
   "execution_count": 10,
   "metadata": {
    "collapsed": true
   },
   "outputs": [],
   "source": [
    "def determinist(data):\n",
    "    return data.index(max(data))"
   ]
  },
  {
   "cell_type": "code",
   "execution_count": 11,
   "metadata": {
    "collapsed": false
   },
   "outputs": [],
   "source": [
    "def find_class(data,clabels):\n",
    "    return clabels[data]"
   ]
  },
  {
   "cell_type": "code",
   "execution_count": 12,
   "metadata": {
    "collapsed": false
   },
   "outputs": [],
   "source": [
    "def prediction(data,sigma,mean,prior,clabels):\n",
    "    member = []\n",
    "    for i in data:\n",
    "        member.append(membership(i[0],sigma,mean,prior))\n",
    "    determine =[]\n",
    "    for j in member:\n",
    "        determine.append(determinist(j))\n",
    "    predict = [find_class(i,clabels) for i in determine]\n",
    "    return predict"
   ]
  },
  {
   "cell_type": "code",
   "execution_count": 13,
   "metadata": {
    "collapsed": true
   },
   "outputs": [],
   "source": [
    "def mean_squrae_error(pred,y):\n",
    "    return sum([(i-j)**2 for i,j in zip(pred,y)])/float(len(pred))"
   ]
  },
  {
   "cell_type": "code",
   "execution_count": 14,
   "metadata": {
    "collapsed": false
   },
   "outputs": [],
   "source": [
    "def cross_validation(data, labels,clabels, n_folds=10,MSE = False):\n",
    "    cv = KFold(len(labels), n_folds)\n",
    "    accuracies = []\n",
    "    training_MSE_list =[]\n",
    "    testing_MSE_list = []\n",
    "    precision_list = []\n",
    "    recall_list = []\n",
    "    i = 0\n",
    "    for train_ind, test_ind in cv: \n",
    "        train_alpha,train_mean,train_covar = training(data[train_ind], labels[train_ind])\n",
    "        training_MSE = mean_squrae_error(prediction(data[train_ind],train_covar,train_mean,train_alpha,clabels), labels[train_ind])\n",
    "        training_MSE_list.append(training_MSE)\n",
    "        predict = prediction(data[test_ind],train_covar,train_mean,train_alpha,clabels)\n",
    "        testing_MSE_list.append(mean_squrae_error(predict,labels[test_ind]))\n",
    "        accuracies.append(accuracy_score(labels[test_ind], predict))\n",
    "        p,r = roc(clabels,labels[test_ind],predict)\n",
    "        precision_list.append(p)\n",
    "        recall_list.append(r)\n",
    "    if MSE == True:\n",
    "        for i in range(len(testing_MSE_list)):\n",
    "            print 'Fold',i,'Testing Error',testing_MSE_list[i]\n",
    "        print \"Average Mean Square Error\"\n",
    "        print \"Training Error \\t Testing Error\"\n",
    "        print np.mean(training_MSE_list),\"\\t\",np.mean(testing_MSE_list)\n",
    "    else:\n",
    "        for i in range(len(accuracies)):\n",
    "            print 'Fold',i,'Accuracy',accuracies[i]\n",
    "        print \"Average Accuracy \", np.mean(accuracies)\n",
    "    return precision_list,recall_list"
   ]
  },
  {
   "cell_type": "code",
   "execution_count": 15,
   "metadata": {
    "collapsed": false
   },
   "outputs": [],
   "source": [
    "def find_confusion_matrix(clabels,actual,predicted):\n",
    "    cm= []\n",
    "    for i in clabels:\n",
    "        tmp =[0]*len(clabels)\n",
    "        for j in range(len(actual)):\n",
    "            if actual[j][0] == i and actual[j][0] == predicted[j]:\n",
    "                tmp[clabels.index(i)] += 1\n",
    "            elif actual[j][0] == i and actual[j][0] != predicted[j]:\n",
    "                tmp[clabels.index(predicted[j])] += 1\n",
    "        cm.append(tmp)\n",
    "    return np.array(cm)\n",
    "            "
   ]
  },
  {
   "cell_type": "code",
   "execution_count": 16,
   "metadata": {
    "collapsed": true
   },
   "outputs": [],
   "source": [
    "def find_accuracy(matrix):\n",
    "    return np.trace(matrix)*1.0/np.sum(matrix)"
   ]
  },
  {
   "cell_type": "code",
   "execution_count": 17,
   "metadata": {
    "collapsed": false
   },
   "outputs": [],
   "source": [
    "def find_precision(matrix):\n",
    "    pres = []\n",
    "    x = np.sum(matrix,axis=0)\n",
    "    for i in range(len(matrix)):\n",
    "        for j in range(len(matrix)):\n",
    "            if i == j:\n",
    "                pres.append(matrix[i][j]*1.0/x[i])\n",
    "    return pres"
   ]
  },
  {
   "cell_type": "code",
   "execution_count": 18,
   "metadata": {
    "collapsed": false
   },
   "outputs": [],
   "source": [
    "def find_recall(matrix):\n",
    "    rec = []\n",
    "    x = np.sum(matrix,axis=1)\n",
    "    for i in range(len(matrix)):\n",
    "        for j in range(len(matrix)):\n",
    "            if i == j:\n",
    "                rec.append(matrix[i][j]*1.0/x[i])\n",
    "    return rec"
   ]
  },
  {
   "cell_type": "code",
   "execution_count": 19,
   "metadata": {
    "collapsed": true
   },
   "outputs": [],
   "source": [
    "def find_fmeasure(prec,rec):\n",
    "    tmp = []\n",
    "    for i,j in zip(prec,rec):\n",
    "        tmp.append(2.0*(i*j)/(i+j))\n",
    "    return tmp"
   ]
  },
  {
   "cell_type": "code",
   "execution_count": 20,
   "metadata": {
    "collapsed": true
   },
   "outputs": [],
   "source": [
    "def roc(clabels,acutal,predicted):\n",
    "    confmatrix = find_confusion_matrix(clabels,acutal,predicted)\n",
    "    precision = find_precision(confmatrix)\n",
    "    recall = find_recall(confmatrix)\n",
    "    return precision,recall"
   ]
  },
  {
   "cell_type": "code",
   "execution_count": 21,
   "metadata": {
    "collapsed": true
   },
   "outputs": [],
   "source": [
    "def evaluation(clabels,acutal,predicted):\n",
    "    confmatrix = find_confusion_matrix(clabels,acutal,predicted)\n",
    "    print \"Confusion Matrix\"\n",
    "    print confmatrix\n",
    "    accuracy = find_accuracy(confmatrix)\n",
    "    print \"Accuracy\", accuracy\n",
    "    precision = find_precision(confmatrix)\n",
    "    print \"Precision\", precision\n",
    "    recall = find_recall(confmatrix)\n",
    "    print \"Recall\", recall\n",
    "    f_score =find_fmeasure(precision,recall)\n",
    "    print \"F_score\", f_score"
   ]
  },
  {
   "cell_type": "code",
   "execution_count": 22,
   "metadata": {
    "collapsed": false
   },
   "outputs": [
    {
     "name": "stdout",
     "output_type": "stream",
     "text": [
      "The Classses are [2, 4]\n",
      "The Classes Count  {2: 458, 4: 241}\n",
      "The prior probabiliy {2: 0.6552217453505007, 4: 0.3447782546494993}\n"
     ]
    }
   ],
   "source": [
    "classes,class_count,alpha = find_alpha(Y)\n",
    "print \"The Classses are\", classes\n",
    "print \"The Classes Count \", class_count\n",
    "print \"The prior probabiliy\", alpha"
   ]
  },
  {
   "cell_type": "code",
   "execution_count": 23,
   "metadata": {
    "collapsed": false
   },
   "outputs": [],
   "source": [
    "X_uni = np.array([[x[2]] for x in X])"
   ]
  },
  {
   "cell_type": "code",
   "execution_count": 24,
   "metadata": {
    "collapsed": false,
    "scrolled": true
   },
   "outputs": [
    {
     "name": "stdout",
     "output_type": "stream",
     "text": [
      "The Mean for each class\n",
      "2 \t1.44323144105\n",
      "4 \t6.5601659751\n"
     ]
    }
   ],
   "source": [
    "mean_class = find_mean(X_uni,Y,class_count)\n",
    "print \"The Mean for each class\"\n",
    "for i in mean_class:\n",
    "    print i,\"\\t\",mean_class[i]"
   ]
  },
  {
   "cell_type": "code",
   "execution_count": 25,
   "metadata": {
    "collapsed": false
   },
   "outputs": [
    {
     "name": "stdout",
     "output_type": "stream",
     "text": [
      "The sigma for each class\n",
      "2 \t0.993502221544\n",
      "4 \t6.53683648698\n"
     ]
    }
   ],
   "source": [
    "covariance_class = find_covariance(X_uni,Y,mean_class,class_count)\n",
    "print \"The sigma for each class\"\n",
    "for i in covariance_class:\n",
    "    print i,\"\\t\",covariance_class[i]"
   ]
  },
  {
   "cell_type": "code",
   "execution_count": 26,
   "metadata": {
    "collapsed": false
   },
   "outputs": [
    {
     "name": "stdout",
     "output_type": "stream",
     "text": [
      "Predicted Value \t True Value \n",
      "2 \t\t\t[2]\n",
      "2 \t\t\t[4]\n",
      "2 \t\t\t[2]\n",
      "4 \t\t\t[4]\n",
      "4 \t\t\t[4]\n",
      "2 \t\t\t[2]\n",
      "2 \t\t\t[2]\n",
      "4 \t\t\t[4]\n",
      "2 \t\t\t[2]\n",
      "2 \t\t\t[4]\n"
     ]
    }
   ],
   "source": [
    "predictions = prediction(X_uni,covariance_class,mean_class,alpha,classes)\n",
    "print \"Predicted Value \\t True Value \"\n",
    "for i in range(11,21):\n",
    "    print predictions[i],\"\\t\\t\\t\",Y[i]"
   ]
  },
  {
   "cell_type": "code",
   "execution_count": 27,
   "metadata": {
    "collapsed": false
   },
   "outputs": [
    {
     "name": "stdout",
     "output_type": "stream",
     "text": [
      "Fold 0 Accuracy 0.842857142857\n",
      "Fold 1 Accuracy 0.928571428571\n",
      "Fold 2 Accuracy 0.971428571429\n",
      "Fold 3 Accuracy 0.914285714286\n",
      "Fold 4 Accuracy 0.842857142857\n",
      "Fold 5 Accuracy 0.914285714286\n",
      "Fold 6 Accuracy 0.928571428571\n",
      "Fold 7 Accuracy 0.985714285714\n",
      "Fold 8 Accuracy 0.957142857143\n",
      "Fold 9 Accuracy 0.942028985507\n",
      "Average Accuracy  0.922774327122\n"
     ]
    }
   ],
   "source": [
    "pre,rec = cross_validation(X_uni, Y,classes)"
   ]
  },
  {
   "cell_type": "code",
   "execution_count": 28,
   "metadata": {
    "collapsed": false
   },
   "outputs": [
    {
     "name": "stdout",
     "output_type": "stream",
     "text": [
      "Fold 0 Testing Error [ 0.62857143]\n",
      "Fold 1 Testing Error [ 0.28571429]\n",
      "Fold 2 Testing Error [ 0.11428571]\n",
      "Fold 3 Testing Error [ 0.34285714]\n",
      "Fold 4 Testing Error [ 0.62857143]\n",
      "Fold 5 Testing Error [ 0.34285714]\n",
      "Fold 6 Testing Error [ 0.28571429]\n",
      "Fold 7 Testing Error [ 0.05714286]\n",
      "Fold 8 Testing Error [ 0.17142857]\n",
      "Fold 9 Testing Error [ 0.23188406]\n",
      "Average Mean Square Error\n",
      "Training Error \t Testing Error\n",
      "0.309011532541 \t0.308902691511\n"
     ]
    },
    {
     "data": {
      "text/plain": [
       "([[0.80000000000000004, 0.90000000000000002],\n",
       "  [0.91304347826086951, 0.95833333333333337],\n",
       "  [0.97727272727272729, 0.96153846153846156],\n",
       "  [0.93333333333333335, 0.90000000000000002],\n",
       "  [0.80952380952380953, 0.8928571428571429],\n",
       "  [0.94444444444444442, 0.8125],\n",
       "  [0.94117647058823528, 0.89473684210526316],\n",
       "  [0.98333333333333328, 1.0],\n",
       "  [0.95918367346938771, 0.95238095238095233],\n",
       "  [1.0, 0.76470588235294112]],\n",
       " [[0.91428571428571426, 0.77142857142857146],\n",
       "  [0.97674418604651159, 0.85185185185185186],\n",
       "  [0.97727272727272729, 0.96153846153846156],\n",
       "  [0.875, 0.94736842105263153],\n",
       "  [0.91891891891891897, 0.75757575757575757],\n",
       "  [0.94444444444444442, 0.8125],\n",
       "  [0.95999999999999996, 0.84999999999999998],\n",
       "  [1.0, 0.90909090909090906],\n",
       "  [0.97916666666666663, 0.90909090909090906],\n",
       "  [0.9285714285714286, 1.0]])"
      ]
     },
     "execution_count": 28,
     "metadata": {},
     "output_type": "execute_result"
    }
   ],
   "source": [
    "cross_validation(X_uni, Y,classes,MSE= True)"
   ]
  },
  {
   "cell_type": "code",
   "execution_count": 29,
   "metadata": {
    "collapsed": false
   },
   "outputs": [
    {
     "data": {
      "text/plain": [
       "array([[436,  22],\n",
       "       [ 32, 209]])"
      ]
     },
     "execution_count": 29,
     "metadata": {},
     "output_type": "execute_result"
    }
   ],
   "source": [
    "confusion_matrix(Y,predictions)"
   ]
  },
  {
   "cell_type": "code",
   "execution_count": 30,
   "metadata": {
    "collapsed": false
   },
   "outputs": [
    {
     "name": "stdout",
     "output_type": "stream",
     "text": [
      "Confusion Matrix\n",
      "[[436  22]\n",
      " [ 32 209]]\n",
      "Accuracy 0.922746781116\n",
      "Precision [0.93162393162393164, 0.90476190476190477]\n",
      "Recall [0.95196506550218341, 0.86721991701244816]\n",
      "F_score [0.94168466522678185, 0.88559322033898302]\n"
     ]
    }
   ],
   "source": [
    "evaluation(classes,Y,predictions)"
   ]
  },
  {
   "cell_type": "code",
   "execution_count": 33,
   "metadata": {
    "collapsed": false
   },
   "outputs": [
    {
     "name": "stdout",
     "output_type": "stream",
     "text": [
      "Precision\n",
      "Class2 \t\t Class4\n",
      "0.8  \t\t  0.9\n",
      "0.913043478261  \t\t  0.958333333333\n",
      "0.977272727273  \t\t  0.961538461538\n",
      "0.933333333333  \t\t  0.9\n",
      "0.809523809524  \t\t  0.892857142857\n",
      "0.944444444444  \t\t  0.8125\n",
      "0.941176470588  \t\t  0.894736842105\n",
      "0.983333333333  \t\t  1.0\n",
      "0.959183673469  \t\t  0.952380952381\n",
      "1.0  \t\t  0.764705882353\n",
      "Mean Precision\n",
      "[ 0.92613113  0.90370526]\n"
     ]
    }
   ],
   "source": [
    "print \"Precision\"\n",
    "print\"Class2 \\t\\t Class4\"\n",
    "for i in pre:\n",
    "    print i[0],\" \\t\\t \",i[1]\n",
    "print \"Mean Precision\"\n",
    "print np.mean(pre,axis = 0)"
   ]
  },
  {
   "cell_type": "code",
   "execution_count": 34,
   "metadata": {
    "collapsed": false
   },
   "outputs": [
    {
     "data": {
      "text/plain": [
       "array([ 0.93162393,  0.9047619 ])"
      ]
     },
     "execution_count": 34,
     "metadata": {},
     "output_type": "execute_result"
    }
   ],
   "source": [
    "precision_score((Y.T).tolist()[0],predictions,pos_label= None,average= None)"
   ]
  },
  {
   "cell_type": "code",
   "execution_count": 35,
   "metadata": {
    "collapsed": false
   },
   "outputs": [
    {
     "data": {
      "text/plain": [
       "array([ 0.95196507,  0.86721992])"
      ]
     },
     "execution_count": 35,
     "metadata": {},
     "output_type": "execute_result"
    }
   ],
   "source": [
    "recall_score((Y.T).tolist()[0],predictions,pos_label= None,average= None)"
   ]
  },
  {
   "cell_type": "code",
   "execution_count": 36,
   "metadata": {
    "collapsed": false
   },
   "outputs": [
    {
     "data": {
      "text/plain": [
       "array([ 0.94168467,  0.88559322])"
      ]
     },
     "execution_count": 36,
     "metadata": {},
     "output_type": "execute_result"
    }
   ],
   "source": [
    "f1_score((Y.T).tolist()[0],predictions,pos_label= None,average= None)"
   ]
  }
 ],
 "metadata": {
  "kernelspec": {
   "display_name": "Python 2",
   "language": "python",
   "name": "python2"
  },
  "language_info": {
   "codemirror_mode": {
    "name": "ipython",
    "version": 2
   },
   "file_extension": ".py",
   "mimetype": "text/x-python",
   "name": "python",
   "nbconvert_exporter": "python",
   "pygments_lexer": "ipython2",
   "version": "2.7.10"
  }
 },
 "nbformat": 4,
 "nbformat_minor": 0
}
