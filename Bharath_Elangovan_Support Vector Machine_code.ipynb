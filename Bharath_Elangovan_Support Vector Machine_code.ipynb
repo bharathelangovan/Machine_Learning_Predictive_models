{
 "cells": [
  {
   "cell_type": "code",
   "execution_count": 104,
   "metadata": {
    "collapsed": false
   },
   "outputs": [],
   "source": [
    "from scipy.spatial.distance import pdist\n",
    "import io\n",
    "import numpy as np\n",
    "import math\n",
    "from math import exp\n",
    "import numpy.linalg as linalg\n",
    "from sklearn import metrics\n",
    "from sklearn.cross_validation import KFold\n",
    "import random\n",
    "from sklearn.preprocessing import PolynomialFeatures\n",
    "from sklearn.cross_validation import train_test_split\n",
    "from sklearn.datasets import fetch_mldata\n",
    "from cvxopt import solvers,matrix \n",
    "from cvxopt.base import matrix as m\n",
    "from pylab import *\n",
    "from scipy.spatial.distance import cdist\n",
    "%matplotlib inline"
   ]
  },
  {
   "cell_type": "code",
   "execution_count": 18,
   "metadata": {
    "collapsed": false
   },
   "outputs": [],
   "source": [
    "filename = \"breast-cancer-wisconsin.data.txt\"\n",
    "r = io.open(filename, encoding='utf8').readlines()\n",
    "X = []\n",
    "Y = []\n",
    "for i in r:\n",
    "    x = i.split(',')\n",
    "    for j in range(1,len(x)-1):\n",
    "        try:\n",
    "            x[j] = float(x[j])\n",
    "        except ValueError:\n",
    "            x[j] = 0\n",
    "    X.append(map(float,x[1:len(x)-1]))\n",
    "    if int(x[-1]) == 2:\n",
    "        Y.append([-1.0])\n",
    "    elif int(x[-1]) == 4:\n",
    "        Y.append([1.0])\n",
    "Y = np.array(Y)\n",
    "X = np.array(X)"
   ]
  },
  {
   "cell_type": "code",
   "execution_count": 19,
   "metadata": {
    "collapsed": true
   },
   "outputs": [],
   "source": [
    "def find_alpha1(class_labels):\n",
    "    alpha1 = {}\n",
    "    class_count1 = {}\n",
    "    for i in class_labels:\n",
    "        if i[0] not in class_count1.keys():\n",
    "            class_count1[i[0]] = 1\n",
    "        else:\n",
    "            class_count1[i[0]] += 1\n",
    "    classes1 = class_count1.keys()\n",
    "    for j in  class_count1:\n",
    "        alpha1[j] = class_count1[j]*1.0/len(class_labels)\n",
    "    return classes1,class_count1,alpha1"
   ]
  },
  {
   "cell_type": "code",
   "execution_count": 60,
   "metadata": {
    "collapsed": true
   },
   "outputs": [],
   "source": [
    "def classify_dataset(w,w0,x):\n",
    "    y = []\n",
    "    for i in x:\n",
    "        if (w0 + np.dot(w,i)) > 0:\n",
    "            y.append([1.0])\n",
    "        elif (w0 + np.dot(w,i)) < 0:\n",
    "            y.append([-1.0])\n",
    "    return y"
   ]
  },
  {
   "cell_type": "code",
   "execution_count": 21,
   "metadata": {
    "collapsed": true
   },
   "outputs": [],
   "source": [
    "def segregate_data(data,labels,clabels):\n",
    "    multi_X = {}\n",
    "    for i in range(len(clabels)):\n",
    "        if clabels[i] not in multi_X.keys():\n",
    "            multi_X[clabels[i]] = []\n",
    "        for j in range(len(labels)):\n",
    "            if labels[j][0] == clabels[i]:\n",
    "                multi_X[clabels[i]].append(data[j]) \n",
    "    for i in multi_X:\n",
    "        multi_X[i] = np.array(multi_X[i])\n",
    "    return multi_X"
   ]
  },
  {
   "cell_type": "code",
   "execution_count": 256,
   "metadata": {
    "collapsed": true
   },
   "outputs": [],
   "source": [
    "def lin_sep_data(s,f,d,w,w0):\n",
    "    n = s/2\n",
    "    xx = np.append((np.random.randn(n,f)+d),(np.random.randn(n,f)-d),axis =0)\n",
    "    yy = classify_dataset(w,w0,xx)\n",
    "    return xx,np.array(yy)"
   ]
  },
  {
   "cell_type": "code",
   "execution_count": 255,
   "metadata": {
    "collapsed": true
   },
   "outputs": [],
   "source": [
    "def lin_nonsep_data(s,f,d,w,w0):\n",
    "    n = s/2\n",
    "    xx = np.append((np.random.randn(n,f)+d),(np.random.randn(n,f)-d),axis =0)\n",
    "    yy = classify_dataset(w,w0,xx)\n",
    "    return xx,np.array(yy)"
   ]
  },
  {
   "cell_type": "code",
   "execution_count": 189,
   "metadata": {
    "collapsed": false
   },
   "outputs": [],
   "source": [
    "def matP(x,y,c,gram,typ):\n",
    "    p = np.dot(y,y.T) * gram\n",
    "    p = m(p)\n",
    "    q = m([-1.0] * x.shape[0])\n",
    "    g1 = np.zeros((x.shape[0], x.shape[0]), float)\n",
    "    g2 = np.zeros((x.shape[0], x.shape[0]), float)\n",
    "    np.fill_diagonal(g1, -1.0)\n",
    "    np.fill_diagonal(g2, 1.0)\n",
    "    if typ == 'hard':\n",
    "        h = m([0.0] * x.shape[0] )\n",
    "        g = m(g1)\n",
    "    elif typ == 'soft':\n",
    "        h = m(([0.0] * x.shape[0] + [c] * x.shape[0]))\n",
    "        g = m(np.append(g1,g2,axis=0))\n",
    "    try:\n",
    "        a = m(y.T)\n",
    "    except TypeError:\n",
    "        a = m(np.ndarray.tolist(y))\n",
    "    return p,q,h,g,a"
   ]
  },
  {
   "cell_type": "code",
   "execution_count": 190,
   "metadata": {
    "collapsed": true
   },
   "outputs": [],
   "source": [
    "def find_alpha(p,q,g,h,a,b):\n",
    "    dual = solvers.qp(p,q,g,h,a,b)\n",
    "    alphas = np.matrix(dual['x'])\n",
    "    return alphas"
   ]
  },
  {
   "cell_type": "code",
   "execution_count": 191,
   "metadata": {
    "collapsed": false
   },
   "outputs": [],
   "source": [
    "def find_sv(alphas, data, ep, c, typ):\n",
    "    sv = []\n",
    "    if typ == 'hard':\n",
    "        for i in range(len(alphas)):\n",
    "            if alphas[i] > ep:\n",
    "                sv.append(data[i])\n",
    "    elif typ == 'soft':\n",
    "        for i in range(len(alphas)):\n",
    "            if alphas[i] > ep and alphas[i] < c :\n",
    "                sv.append(data[i])\n",
    "    return np.matrix(sv)"
   ]
  },
  {
   "cell_type": "code",
   "execution_count": 192,
   "metadata": {
    "collapsed": false
   },
   "outputs": [],
   "source": [
    "def find_parm(alphas,data,y,ep,c,typ):\n",
    "    svm = find_sv(alphas,data,ep,c,typ)\n",
    "    w = 0\n",
    "    for i in range(len(alphas)):\n",
    "        w = w + (alphas[i] * y[i] * data[i])\n",
    "    w0 = 0\n",
    "    for j in range((len(y))):\n",
    "        w0 = w0 + (y[i] - np.dot(w,data[i]))\n",
    "    w0 = w0 / len(svm)\n",
    "    return w,w0,svm"
   ]
  },
  {
   "cell_type": "code",
   "execution_count": 204,
   "metadata": {
    "collapsed": true
   },
   "outputs": [],
   "source": [
    "def normal_gram(data):\n",
    "    return np.dot(data,data.T)"
   ]
  },
  {
   "cell_type": "code",
   "execution_count": 209,
   "metadata": {
    "collapsed": true
   },
   "outputs": [],
   "source": [
    "def plotdata(svm,xx,yy):\n",
    "    svm = np.array(svm)\n",
    "    classes,count,pr = find_alpha1(yy)\n",
    "    xrs = segregate_data(xx,yy,classes)\n",
    "    x_neg = []\n",
    "    y_neg = []\n",
    "    x_pos = []\n",
    "    y_pos = []\n",
    "    x_svm = []\n",
    "    y_svm = []\n",
    "    for i in xrs:\n",
    "        if i == -1:\n",
    "             for j in xrs[i]:\n",
    "                x_neg.append(j[0])\n",
    "                y_neg.append(j[1])\n",
    "        if i == 1:\n",
    "            for j in xrs[i]:\n",
    "                x_pos.append(j[0])\n",
    "                y_pos.append(j[1])\n",
    "    for k in svm:\n",
    "        x_svm.append(k[0])\n",
    "        y_svm.append(k[1])\n",
    "    plt.plot(x_neg,y_neg,'ro')\n",
    "    plt.plot(x_pos,y_pos,'bo')\n",
    "    plt.plot(x_svm,y_svm,'gx')\n",
    "    plt.xlabel(\"X\")\n",
    "    plt.ylabel(\"Y\")\n",
    "    plt.show()"
   ]
  },
  {
   "cell_type": "code",
   "execution_count": 330,
   "metadata": {
    "collapsed": true
   },
   "outputs": [],
   "source": [
    "def plotdata1(svm,xx,yy):\n",
    "    svm = np.array(svm)\n",
    "    classes,count,pr = find_alpha1(yy)\n",
    "    xrs = segregate_data(xx,yy,classes)\n",
    "    x_neg = []\n",
    "    y_neg = []\n",
    "    x_pos = []\n",
    "    y_pos = []\n",
    "    x_svm = []\n",
    "    y_svm = []\n",
    "    for i in xrs:\n",
    "        if i == -1:\n",
    "             for j in xrs[i]:\n",
    "                x_neg.append(j[0])\n",
    "                y_neg.append(j[1])\n",
    "        if i == 1:\n",
    "            for j in xrs[i]:\n",
    "                x_pos.append(j[0])\n",
    "                y_pos.append(j[1])\n",
    "    for k in svm:\n",
    "        x_svm.append(k[0])\n",
    "        y_svm.append(k[1])\n",
    "    plt.plot(x_neg,y_neg,'ro')\n",
    "    plt.plot(x_pos,y_pos,'bo')\n",
    "    plt.plot(x_svm,y_svm,'gs')\n",
    "    plt.xlabel(\"X\")\n",
    "    plt.ylabel(\"Y\")\n",
    "    plt.show()"
   ]
  },
  {
   "cell_type": "code",
   "execution_count": 193,
   "metadata": {
    "collapsed": false
   },
   "outputs": [],
   "source": [
    "def training(data,y,gram,ep = 0,c=1,typ = 'hard'):\n",
    "    P1,Q1,H1,G1,A1 = matP(data,y,c,gram,typ)\n",
    "    b1 = m(1.0)\n",
    "    alpha1 = find_alpha(P1,Q1,G1,H1,A1,b1)\n",
    "    W1,W10,SVM = find_parm(alpha1,data,y,ep,c,typ)\n",
    "    return W1,W10,SVM "
   ]
  },
  {
   "cell_type": "code",
   "execution_count": 194,
   "metadata": {
    "collapsed": false
   },
   "outputs": [],
   "source": [
    "def prediction(w,w0,data):\n",
    "    pred = []\n",
    "    for i in data:\n",
    "        prod = np.dot(w,i) + w0\n",
    "        if prod > 0:\n",
    "            pred.append([1])\n",
    "        else:\n",
    "            pred.append([-1])\n",
    "    return np.array(pred)        "
   ]
  },
  {
   "cell_type": "code",
   "execution_count": 195,
   "metadata": {
    "collapsed": true
   },
   "outputs": [],
   "source": [
    "def find_confusion_matrix(clabels,actual,predicted):\n",
    "    cm= []\n",
    "    for i in clabels:\n",
    "        tmp =[0]*len(clabels)\n",
    "        for j in range(len(actual)):\n",
    "            if actual[j][0] == i and actual[j][0] == predicted[j][0]:\n",
    "                tmp[clabels.index(i)] += 1\n",
    "            elif actual[j][0] == i and actual[j][0] != predicted[j][0]:\n",
    "                tmp[clabels.index(predicted[j][0])] += 1\n",
    "        cm.append(tmp)\n",
    "    return np.array(cm)\n",
    "def find_accuracy(matrix):\n",
    "    return np.trace(matrix)*1.0/np.sum(matrix)\n",
    "def find_precision(matrix):\n",
    "    pres = []\n",
    "    x = np.sum(matrix,axis=0)\n",
    "    for i in range(len(matrix)):\n",
    "        for j in range(len(matrix)):\n",
    "            if i == j:\n",
    "                pres.append(matrix[i][j]*1.0/x[i])\n",
    "    return pres\n",
    "def find_recall(matrix):\n",
    "    rec = []\n",
    "    x = np.sum(matrix,axis=1)\n",
    "    for i in range(len(matrix)):\n",
    "        for j in range(len(matrix)):\n",
    "            if i == j:\n",
    "                rec.append(matrix[i][j]*1.0/x[i])\n",
    "    return rec\n",
    "def find_fmeasure(prec,rec):\n",
    "    tmp = []\n",
    "    for i,j in zip(prec,rec):\n",
    "        tmp.append(2.0*(i*j)/(i+j))\n",
    "    return tmp"
   ]
  },
  {
   "cell_type": "code",
   "execution_count": 196,
   "metadata": {
    "collapsed": true
   },
   "outputs": [],
   "source": [
    "def evaluation(clabels,acutal,predicted):\n",
    "    confmatrix = find_confusion_matrix(clabels,acutal,predicted)\n",
    "    print \"Confusion Matrix\"\n",
    "    print confmatrix\n",
    "    accuracy = find_accuracy(confmatrix)\n",
    "    print \"Accuracy\", accuracy\n",
    "    precision = find_precision(confmatrix)\n",
    "    print \"Precision\", precision\n",
    "    recall = find_recall(confmatrix)\n",
    "    print \"Recall\", recall\n",
    "    f_score =find_fmeasure(precision,recall)\n",
    "    print \"F_score\", f_score"
   ]
  },
  {
   "cell_type": "code",
   "execution_count": 205,
   "metadata": {
    "collapsed": true
   },
   "outputs": [],
   "source": [
    "def kernel_gram_matrix(x,sigma):\n",
    "    d = cdist(x,x,'sqeuclidean')    \n",
    "    return np.exp((-1/2)*(d/sigma**2))"
   ]
  },
  {
   "cell_type": "code",
   "execution_count": 137,
   "metadata": {
    "collapsed": false
   },
   "outputs": [],
   "source": [
    "def poly_kernel(data,q):\n",
    "    x_poly = []\n",
    "    for i in data:\n",
    "        tmp = []\n",
    "        for j in data:\n",
    "            tmp.append((np.dot(i,j)+1)**1)\n",
    "        x_poly.append(tmp)\n",
    "    return np.array(x_poly)"
   ]
  },
  {
   "cell_type": "code",
   "execution_count": 220,
   "metadata": {
    "collapsed": false
   },
   "outputs": [],
   "source": [
    "ww = np.array([[0.5,0.5 ]])\n",
    "ww0 = np.array([[0]])\n",
    "X_lin,Y_lin = lin_sep_data(100,2,2,ww,ww0)"
   ]
  },
  {
   "cell_type": "markdown",
   "metadata": {},
   "source": [
    "## Hard margin linearly separable"
   ]
  },
  {
   "cell_type": "code",
   "execution_count": 221,
   "metadata": {
    "collapsed": false
   },
   "outputs": [
    {
     "name": "stdout",
     "output_type": "stream",
     "text": [
      "     pcost       dcost       gap    pres   dres\n",
      " 0: -1.2325e+01 -2.0943e+01  3e+02  2e+01  2e+00\n",
      " 1: -1.1206e+01 -3.2563e+00  4e+01  3e+00  3e-01\n",
      " 2: -7.3358e-01 -4.4958e-01  2e+00  1e-01  1e-02\n",
      " 3: -3.4858e-01 -3.0963e-01  7e-01  4e-02  3e-03\n",
      " 4: -2.7193e-01 -2.4835e-01  2e-01  1e-02  9e-04\n",
      " 5: -2.3546e-01 -2.3243e-01  1e-02  6e-04  6e-05\n",
      " 6: -2.3204e-01 -2.3201e-01  1e-04  6e-06  6e-07\n",
      " 7: -2.3201e-01 -2.3201e-01  1e-06  6e-08  6e-09\n",
      " 8: -2.3201e-01 -2.3201e-01  1e-08  6e-10  6e-11\n",
      "Optimal solution found.\n"
     ]
    },
    {
     "data": {
      "image/png": "[encoded data removed]",
      "text/plain": [
       "<matplotlib.figure.Figure at 0x37ab30f0>"
      ]
     },
     "metadata": {},
     "output_type": "display_data"
    },
    {
     "name": "stdout",
     "output_type": "stream",
     "text": [
      "Confusion Matrix\n",
      "[[50  0]\n",
      " [ 0 50]]\n",
      "Accuracy 1.0\n",
      "Precision [1.0, 1.0]\n",
      "Recall [1.0, 1.0]\n",
      "F_score [1.0, 1.0]\n"
     ]
    }
   ],
   "source": [
    "G = normal_gram(X_lin)\n",
    "W_lin,W0_lin,support_vector = training(X_lin,Y_lin,G,typ = 'hard')\n",
    "plotdata(support_vector,X_lin,Y_lin)\n",
    "predict_lin_hard = prediction(W_lin,W0_lin,X_lin)\n",
    "evaluation([-1.0,1.0],Y_lin,predict_lin_hard)"
   ]
  },
  {
   "cell_type": "markdown",
   "metadata": {},
   "source": [
    "### Soft Margin Linearly Separable"
   ]
  },
  {
   "cell_type": "code",
   "execution_count": 222,
   "metadata": {
    "collapsed": false
   },
   "outputs": [
    {
     "name": "stdout",
     "output_type": "stream",
     "text": [
      "     pcost       dcost       gap    pres   dres\n",
      " 0: -1.2276e+01 -1.9867e+02  1e+03  3e+00  8e-15\n",
      " 1: -6.2896e+00 -1.0539e+02  2e+02  3e-01  8e-15\n",
      " 2: -1.1038e+00 -1.4824e+01  2e+01  4e-02  9e-15\n",
      " 3: -2.3813e-02 -2.9941e+00  4e+00  6e-03  4e-15\n",
      " 4: -1.0541e-01 -8.3517e-01  1e+00  1e-03  2e-15\n",
      " 5: -1.8809e-01 -3.0952e-01  1e-01  7e-05  1e-15\n",
      " 6: -2.3113e-01 -2.3299e-01  2e-03  8e-07  1e-15\n",
      " 7: -2.3200e-01 -2.3202e-01  2e-05  8e-09  1e-15\n",
      " 8: -2.3201e-01 -2.3201e-01  2e-07  8e-11  2e-15\n",
      "Optimal solution found.\n"
     ]
    },
    {
     "data": {
      "image/png": "[encoded data removed]",
      "text/plain": [
       "<matplotlib.figure.Figure at 0x1c5b66a0>"
      ]
     },
     "metadata": {},
     "output_type": "display_data"
    },
    {
     "name": "stdout",
     "output_type": "stream",
     "text": [
      "Confusion Matrix\n",
      "[[50  0]\n",
      " [ 0 50]]\n",
      "Accuracy 1.0\n",
      "Precision [1.0, 1.0]\n",
      "Recall [1.0, 1.0]\n",
      "F_score [1.0, 1.0]\n"
     ]
    }
   ],
   "source": [
    "W_lin,W0_lin,support_vector = training(X_lin,Y_lin,G,typ = 'soft')\n",
    "plotdata(support_vector,X_lin,Y_lin)\n",
    "predict_lin_soft = prediction(W_lin,W0_lin,X_lin)\n",
    "evaluation([-1.0,1.0],Y_lin,predict_lin_soft)"
   ]
  },
  {
   "cell_type": "markdown",
   "metadata": {},
   "source": [
    "# Gaussian Kernel"
   ]
  },
  {
   "cell_type": "markdown",
   "metadata": {},
   "source": [
    "### Hard Margin Lineraly Separable"
   ]
  },
  {
   "cell_type": "code",
   "execution_count": 223,
   "metadata": {
    "collapsed": false
   },
   "outputs": [
    {
     "name": "stdout",
     "output_type": "stream",
     "text": [
      "     pcost       dcost       gap    pres   dres\n",
      " 0: -3.4927e+01 -8.3680e+01  5e+01  7e-15  2e+00\n",
      " 1: -4.3131e+01 -4.4612e+01  1e+00  2e-14  3e-01\n",
      " 2: -4.5604e+01 -4.5805e+01  2e-01  1e-14  1e-02\n",
      " 3: -4.5619e+01 -4.5624e+01  5e-03  1e-15  2e-04\n",
      " 4: -4.5621e+01 -4.5621e+01  9e-05  2e-14  2e-06\n",
      " 5: -4.5621e+01 -4.5621e+01  9e-07  1e-14  2e-08\n",
      "Optimal solution found.\n"
     ]
    },
    {
     "data": {
      "image/png": "[encoded data removed]",
      "text/plain": [
       "<matplotlib.figure.Figure at 0x1c9dd128>"
      ]
     },
     "metadata": {},
     "output_type": "display_data"
    },
    {
     "name": "stdout",
     "output_type": "stream",
     "text": [
      "Confusion Matrix\n",
      "[[48  2]\n",
      " [ 0 50]]\n",
      "Accuracy 0.98\n",
      "Precision [1.0, 0.96153846153846156]\n",
      "Recall [0.95999999999999996, 1.0]\n",
      "F_score [0.97959183673469385, 0.98039215686274506]\n"
     ]
    }
   ],
   "source": [
    "G = kernel_gram_matrix(X_lin,0.1)\n",
    "W_lin,W0_lin,support_vector = training(X_lin,Y_lin,G,typ = 'hard')\n",
    "plotdata(support_vector,X_lin,Y_lin)\n",
    "predict_lin_soft = prediction(W_lin,W0_lin,X_lin)\n",
    "evaluation([-1.0,1.0],Y_lin,predict_lin_soft)"
   ]
  },
  {
   "cell_type": "markdown",
   "metadata": {},
   "source": [
    "### Soft Margin Lineraly Separable - Gaussian"
   ]
  },
  {
   "cell_type": "code",
   "execution_count": 224,
   "metadata": {
    "collapsed": false
   },
   "outputs": [
    {
     "name": "stdout",
     "output_type": "stream",
     "text": [
      "     pcost       dcost       gap    pres   dres\n",
      " 0: -4.1231e+01 -1.5438e+02  1e+02  9e-15  4e-16\n",
      " 1: -4.3195e+01 -5.0471e+01  7e+00  1e-14  2e-16\n",
      " 2: -4.5191e+01 -4.6492e+01  1e+00  2e-14  1e-16\n",
      " 3: -4.5558e+01 -4.5728e+01  2e-01  2e-14  9e-17\n",
      " 4: -4.5611e+01 -4.5631e+01  2e-02  2e-14  9e-17\n",
      " 5: -4.5618e+01 -4.5620e+01  2e-03  4e-15  1e-16\n",
      " 6: -4.5619e+01 -4.5619e+01  6e-05  2e-15  1e-16\n",
      " 7: -4.5619e+01 -4.5619e+01  1e-06  1e-14  9e-17\n",
      "Optimal solution found.\n"
     ]
    },
    {
     "data": {
      "image/png": "[encoded data removed]",
      "text/plain": [
       "<matplotlib.figure.Figure at 0x1c5f3470>"
      ]
     },
     "metadata": {},
     "output_type": "display_data"
    },
    {
     "name": "stdout",
     "output_type": "stream",
     "text": [
      "Confusion Matrix\n",
      "[[48  2]\n",
      " [ 0 50]]\n",
      "Accuracy 0.98\n",
      "Precision [1.0, 0.96153846153846156]\n",
      "Recall [0.95999999999999996, 1.0]\n",
      "F_score [0.97959183673469385, 0.98039215686274506]\n"
     ]
    }
   ],
   "source": [
    "W_lin,W0_lin,support_vector = training(X_lin,Y_lin,G,typ = 'soft')\n",
    "plotdata(support_vector,X_lin,Y_lin)\n",
    "predict_lin_soft = prediction(W_lin,W0_lin,X_lin)\n",
    "evaluation([-1.0,1.0],Y_lin,predict_lin_soft)"
   ]
  },
  {
   "cell_type": "markdown",
   "metadata": {},
   "source": [
    "## Polynomial Kernel"
   ]
  },
  {
   "cell_type": "code",
   "execution_count": 225,
   "metadata": {
    "collapsed": false
   },
   "outputs": [
    {
     "name": "stdout",
     "output_type": "stream",
     "text": [
      "     pcost       dcost       gap    pres   dres\n",
      " 0: -1.1825e+01 -2.0443e+01  3e+02  2e+01  2e+00\n",
      " 1: -1.0706e+01 -2.7563e+00  4e+01  3e+00  3e-01\n",
      " 2: -2.3358e-01  5.0422e-02  2e+00  1e-01  1e-02\n",
      " 3:  1.5142e-01  1.9037e-01  7e-01  4e-02  3e-03\n",
      " 4:  2.2807e-01  2.5165e-01  2e-01  1e-02  9e-04\n",
      " 5:  2.6454e-01  2.6757e-01  1e-02  6e-04  6e-05\n",
      " 6:  2.6796e-01  2.6799e-01  1e-04  6e-06  6e-07\n",
      " 7:  2.6799e-01  2.6799e-01  1e-06  6e-08  6e-09\n",
      " 8:  2.6799e-01  2.6799e-01  1e-08  6e-10  6e-11\n",
      "Optimal solution found.\n"
     ]
    },
    {
     "data": {
      "image/png": "[encoded data removed]",
      "text/plain": [
       "<matplotlib.figure.Figure at 0x1c8ed320>"
      ]
     },
     "metadata": {},
     "output_type": "display_data"
    },
    {
     "name": "stdout",
     "output_type": "stream",
     "text": [
      "Confusion Matrix\n",
      "[[50  0]\n",
      " [ 0 50]]\n",
      "Accuracy 1.0\n",
      "Precision [1.0, 1.0]\n",
      "Recall [1.0, 1.0]\n",
      "F_score [1.0, 1.0]\n"
     ]
    }
   ],
   "source": [
    "G = poly_kernel(X_lin,0.1)\n",
    "W_lin,W0_lin,support_vector = training(X_lin,Y_lin,G,typ = 'hard')\n",
    "plotdata(support_vector,X_lin,Y_lin)\n",
    "predict_lin_soft = prediction(W_lin,W0_lin,X_lin)\n",
    "evaluation([-1.0,1.0],Y_lin,predict_lin_soft)"
   ]
  },
  {
   "cell_type": "code",
   "execution_count": 226,
   "metadata": {
    "collapsed": false
   },
   "outputs": [
    {
     "name": "stdout",
     "output_type": "stream",
     "text": [
      "     pcost       dcost       gap    pres   dres\n",
      " 0: -1.1776e+01 -1.9817e+02  1e+03  3e+00  1e-14\n",
      " 1: -5.7896e+00 -1.0489e+02  2e+02  3e-01  8e-15\n",
      " 2: -6.0377e-01 -1.4324e+01  2e+01  4e-02  5e-15\n",
      " 3:  4.7619e-01 -2.4941e+00  4e+00  6e-03  3e-15\n",
      " 4:  3.9459e-01 -3.3517e-01  1e+00  1e-03  1e-15\n",
      " 5:  3.1191e-01  1.9048e-01  1e-01  7e-05  1e-15\n",
      " 6:  2.6887e-01  2.6701e-01  2e-03  8e-07  1e-15\n",
      " 7:  2.6800e-01  2.6798e-01  2e-05  8e-09  1e-15\n",
      " 8:  2.6799e-01  2.6799e-01  2e-07  8e-11  1e-15\n",
      "Optimal solution found.\n"
     ]
    },
    {
     "data": {
      "image/png": "[encoded data removed]",
      "text/plain": [
       "<matplotlib.figure.Figure at 0x36d729e8>"
      ]
     },
     "metadata": {},
     "output_type": "display_data"
    },
    {
     "name": "stdout",
     "output_type": "stream",
     "text": [
      "Confusion Matrix\n",
      "[[50  0]\n",
      " [ 0 50]]\n",
      "Accuracy 1.0\n",
      "Precision [1.0, 1.0]\n",
      "Recall [1.0, 1.0]\n",
      "F_score [1.0, 1.0]\n"
     ]
    }
   ],
   "source": [
    "G = poly_kernel(X_lin,0.1)\n",
    "W_lin,W0_lin,support_vector = training(X_lin,Y_lin,G,typ = 'soft')\n",
    "plotdata(support_vector,X_lin,Y_lin)\n",
    "predict_lin_soft = prediction(W_lin,W0_lin,X_lin)\n",
    "evaluation([-1.0,1.0],Y_lin,predict_lin_soft)"
   ]
  },
  {
   "cell_type": "markdown",
   "metadata": {},
   "source": [
    "## Hard margin linearly  non separable"
   ]
  },
  {
   "cell_type": "code",
   "execution_count": 239,
   "metadata": {
    "collapsed": false
   },
   "outputs": [],
   "source": [
    "ww = np.array([[0.01,0.05 ]])\n",
    "ww0 = np.array([[0]])\n",
    "X_nonlin,Y_nonlin = lin_nonsep_data(100,2,0,ww,ww0)"
   ]
  },
  {
   "cell_type": "code",
   "execution_count": 240,
   "metadata": {
    "collapsed": false
   },
   "outputs": [
    {
     "name": "stdout",
     "output_type": "stream",
     "text": [
      "     pcost       dcost       gap    pres   dres\n",
      " 0: -3.0476e+01 -6.1184e+01  4e+02  2e+01  2e+00\n",
      " 1: -7.0352e+01 -7.0047e+01  2e+02  1e+01  9e-01\n",
      " 2: -1.6450e+02 -1.5354e+02  2e+02  9e+00  9e-01\n",
      " 3: -5.4752e+02 -4.6426e+02  2e+02  9e+00  8e-01\n",
      " 4: -2.3459e+02 -1.9597e+02  4e+02  6e+00  6e-01\n",
      " 5: -1.7713e+02 -1.3679e+02  1e+02  2e+00  2e-01\n",
      " 6: -9.8041e+01 -1.0282e+02  5e+00  1e-13  2e-14\n",
      " 7: -1.0018e+02 -1.0035e+02  2e-01  2e-14  2e-14\n",
      " 8: -1.0026e+02 -1.0027e+02  1e-02  2e-13  2e-14\n",
      " 9: -1.0027e+02 -1.0027e+02  1e-04  5e-14  2e-14\n",
      "10: -1.0027e+02 -1.0027e+02  1e-06  3e-14  2e-14\n",
      "Optimal solution found.\n"
     ]
    },
    {
     "data": {
      "image/png": "[encoded data removed]",
      "text/plain": [
       "<matplotlib.figure.Figure at 0x368e9e80>"
      ]
     },
     "metadata": {},
     "output_type": "display_data"
    },
    {
     "name": "stdout",
     "output_type": "stream",
     "text": [
      "Confusion Matrix\n",
      "[[57  0]\n",
      " [ 5 38]]\n",
      "Accuracy 0.95\n",
      "Precision [0.91935483870967738, 1.0]\n",
      "Recall [1.0, 0.88372093023255816]\n",
      "F_score [0.95798319327731085, 0.93827160493827166]\n"
     ]
    }
   ],
   "source": [
    "G = normal_gram(X_nonlin)\n",
    "W_nonlin,W0_nonlin,support_vector = training(X_nonlin,Y_nonlin,G,typ = 'hard')\n",
    "plotdata(support_vector,X_nonlin,Y_nonlin)\n",
    "predict_lin_hard = prediction(W_nonlin,W0_nonlin,X_nonlin)\n",
    "evaluation([-1.0,1.0],Y_nonlin,predict_lin_hard)"
   ]
  },
  {
   "cell_type": "code",
   "execution_count": 241,
   "metadata": {
    "collapsed": false
   },
   "outputs": [
    {
     "name": "stdout",
     "output_type": "stream",
     "text": [
      "     pcost       dcost       gap    pres   dres\n",
      " 0: -3.0131e+01 -2.3890e+02  1e+03  3e+00  2e-15\n",
      " 1: -1.7448e+01 -1.4977e+02  2e+02  4e-01  2e-15\n",
      " 2: -6.6623e+00 -2.7764e+01  2e+01  1e-02  8e-15\n",
      " 3: -1.1357e+01 -1.5457e+01  4e+00  2e-03  1e-15\n",
      " 4: -1.2669e+01 -1.4025e+01  1e+00  5e-04  9e-16\n",
      " 5: -1.3108e+01 -1.3498e+01  4e-01  1e-04  1e-15\n",
      " 6: -1.3242e+01 -1.3355e+01  1e-01  3e-05  9e-16\n",
      " 7: -1.3286e+01 -1.3302e+01  2e-02  1e-15  1e-15\n",
      " 8: -1.3294e+01 -1.3295e+01  2e-03  3e-16  1e-15\n",
      " 9: -1.3294e+01 -1.3294e+01  2e-05  2e-15  1e-15\n",
      "10: -1.3294e+01 -1.3294e+01  2e-07  3e-16  1e-15\n",
      "Optimal solution found.\n"
     ]
    },
    {
     "data": {
      "image/png": "[encoded data removed]",
      "text/plain": [
       "<matplotlib.figure.Figure at 0x1c8d6550>"
      ]
     },
     "metadata": {},
     "output_type": "display_data"
    },
    {
     "name": "stdout",
     "output_type": "stream",
     "text": [
      "Confusion Matrix\n",
      "[[57  0]\n",
      " [ 0 43]]\n",
      "Accuracy 1.0\n",
      "Precision [1.0, 1.0]\n",
      "Recall [1.0, 1.0]\n",
      "F_score [1.0, 1.0]\n"
     ]
    }
   ],
   "source": [
    "W_nonlin,W0_nonlin,support_vector = training(X_nonlin,Y_nonlin,G,typ = 'soft')\n",
    "plotdata(support_vector,X_nonlin,Y_nonlin)\n",
    "predict_lin_hard = prediction(W_nonlin,W0_nonlin,X_nonlin)\n",
    "evaluation([-1.0,1.0],Y_nonlin,predict_lin_hard)"
   ]
  },
  {
   "cell_type": "markdown",
   "metadata": {},
   "source": [
    "# Gaussian Kernel"
   ]
  },
  {
   "cell_type": "code",
   "execution_count": 243,
   "metadata": {
    "collapsed": false
   },
   "outputs": [
    {
     "name": "stdout",
     "output_type": "stream",
     "text": [
      "     pcost       dcost       gap    pres   dres\n",
      " 0: -3.2463e+01 -8.2099e+01  5e+01  5e-15  2e+00\n",
      " 1: -3.9395e+01 -4.1727e+01  2e+00  1e-15  3e-01\n",
      " 2: -4.1729e+01 -4.1930e+01  2e-01  5e-15  3e-03\n",
      " 3: -4.1730e+01 -4.1734e+01  5e-03  4e-15  4e-05\n",
      " 4: -4.1730e+01 -4.1730e+01  1e-04  2e-15  7e-07\n",
      " 5: -4.1730e+01 -4.1730e+01  1e-06  2e-15  7e-09\n",
      "Optimal solution found.\n"
     ]
    },
    {
     "data": {
      "image/png": "[encoded data removed]",
      "text/plain": [
       "<matplotlib.figure.Figure at 0x36808ba8>"
      ]
     },
     "metadata": {},
     "output_type": "display_data"
    },
    {
     "name": "stdout",
     "output_type": "stream",
     "text": [
      "Confusion Matrix\n",
      "[[57  0]\n",
      " [ 5 38]]\n",
      "Accuracy 0.95\n",
      "Precision [0.91935483870967738, 1.0]\n",
      "Recall [1.0, 0.88372093023255816]\n",
      "F_score [0.95798319327731085, 0.93827160493827166]\n"
     ]
    }
   ],
   "source": [
    "G = kernel_gram_matrix(X_nonlin,0.1)\n",
    "W_nonlin,W0_nonlin,support_vector = training(X_nonlin,Y_nonlin,G,typ = 'hard')\n",
    "plotdata(support_vector,X_nonlin,Y_nonlin)\n",
    "predict_nonlin_soft = prediction(W_nonlin,W0_nonlin,X_nonlin)\n",
    "evaluation([-1.0,1.0],Y_nonlin,predict_nonlin_soft)"
   ]
  },
  {
   "cell_type": "code",
   "execution_count": 244,
   "metadata": {
    "collapsed": false
   },
   "outputs": [
    {
     "name": "stdout",
     "output_type": "stream",
     "text": [
      "     pcost       dcost       gap    pres   dres\n",
      " 0: -3.8227e+01 -1.6034e+02  1e+02  6e-15  4e-16\n",
      " 1: -3.9642e+01 -4.7319e+01  8e+00  8e-16  2e-16\n",
      " 2: -4.1185e+01 -4.1957e+01  8e-01  2e-16  9e-17\n",
      " 3: -4.1388e+01 -4.1470e+01  8e-02  7e-16  9e-17\n",
      " 4: -4.1413e+01 -4.1416e+01  3e-03  7e-16  1e-16\n",
      " 5: -4.1415e+01 -4.1415e+01  1e-04  7e-16  1e-16\n",
      " 6: -4.1415e+01 -4.1415e+01  1e-06  2e-15  1e-16\n",
      "Optimal solution found.\n"
     ]
    },
    {
     "data": {
      "image/png": "[encoded data removed]",
      "text/plain": [
       "<matplotlib.figure.Figure at 0x1c89f080>"
      ]
     },
     "metadata": {},
     "output_type": "display_data"
    },
    {
     "name": "stdout",
     "output_type": "stream",
     "text": [
      "Confusion Matrix\n",
      "[[57  0]\n",
      " [ 6 37]]\n",
      "Accuracy 0.94\n",
      "Precision [0.90476190476190477, 1.0]\n",
      "Recall [1.0, 0.86046511627906974]\n",
      "F_score [0.95000000000000007, 0.92499999999999993]\n"
     ]
    }
   ],
   "source": [
    "W_nonlin,W0_nonlin,support_vector = training(X_nonlin,Y_nonlin,G,typ = 'soft')\n",
    "plotdata(support_vector,X_nonlin,Y_nonlin)\n",
    "predict_nonlin_soft = prediction(W_nonlin,W0_nonlin,X_nonlin)\n",
    "evaluation([-1.0,1.0],Y_nonlin,predict_nonlin_soft)"
   ]
  },
  {
   "cell_type": "code",
   "execution_count": 245,
   "metadata": {
    "collapsed": false
   },
   "outputs": [
    {
     "name": "stdout",
     "output_type": "stream",
     "text": [
      "     pcost       dcost       gap    pres   dres\n",
      " 0: -2.9976e+01 -6.0684e+01  4e+02  2e+01  2e+00\n",
      " 1: -6.9852e+01 -6.9547e+01  2e+02  1e+01  9e-01\n",
      " 2: -1.6400e+02 -1.5304e+02  2e+02  9e+00  9e-01\n",
      " 3: -5.4702e+02 -4.6376e+02  2e+02  9e+00  8e-01\n",
      " 4: -2.3409e+02 -1.9547e+02  4e+02  6e+00  6e-01\n",
      " 5: -1.7663e+02 -1.3629e+02  1e+02  2e+00  2e-01\n",
      " 6: -9.7541e+01 -1.0232e+02  5e+00  1e-13  4e-14\n",
      " 7: -9.9682e+01 -9.9854e+01  2e-01  4e-14  3e-14\n",
      " 8: -9.9760e+01 -9.9770e+01  1e-02  8e-14  3e-14\n",
      " 9: -9.9768e+01 -9.9768e+01  1e-04  9e-14  4e-14\n",
      "10: -9.9768e+01 -9.9768e+01  1e-06  4e-14  3e-14\n",
      "Optimal solution found.\n"
     ]
    },
    {
     "data": {
      "image/png": "[encoded data removed]",
      "text/plain": [
       "<matplotlib.figure.Figure at 0x1c8d6940>"
      ]
     },
     "metadata": {},
     "output_type": "display_data"
    },
    {
     "name": "stdout",
     "output_type": "stream",
     "text": [
      "Confusion Matrix\n",
      "[[57  0]\n",
      " [ 5 38]]\n",
      "Accuracy 0.95\n",
      "Precision [0.91935483870967738, 1.0]\n",
      "Recall [1.0, 0.88372093023255816]\n",
      "F_score [0.95798319327731085, 0.93827160493827166]\n"
     ]
    }
   ],
   "source": [
    "G = poly_kernel(X_nonlin,0.1)\n",
    "W_nonlin,W0_nonlin,support_vector = training(X_nonlin,Y_nonlin,G,typ = 'hard')\n",
    "plotdata(support_vector,X_nonlin,Y_nonlin)\n",
    "predict_nonlin_soft = prediction(W_nonlin,W0_nonlin,X_nonlin)\n",
    "evaluation([-1.0,1.0],Y_nonlin,predict_nonlin_soft)"
   ]
  },
  {
   "cell_type": "code",
   "execution_count": 246,
   "metadata": {
    "collapsed": false
   },
   "outputs": [
    {
     "name": "stdout",
     "output_type": "stream",
     "text": [
      "     pcost       dcost       gap    pres   dres\n",
      " 0: -2.9631e+01 -2.3840e+02  1e+03  3e+00  3e-15\n",
      " 1: -1.6948e+01 -1.4927e+02  2e+02  4e-01  2e-15\n",
      " 2: -6.1623e+00 -2.7264e+01  2e+01  1e-02  9e-15\n",
      " 3: -1.0857e+01 -1.4957e+01  4e+00  2e-03  2e-15\n",
      " 4: -1.2169e+01 -1.3525e+01  1e+00  5e-04  1e-15\n",
      " 5: -1.2608e+01 -1.2998e+01  4e-01  1e-04  1e-15\n",
      " 6: -1.2742e+01 -1.2855e+01  1e-01  3e-05  1e-15\n",
      " 7: -1.2786e+01 -1.2802e+01  2e-02  2e-16  1e-15\n",
      " 8: -1.2794e+01 -1.2795e+01  2e-03  2e-16  1e-15\n",
      " 9: -1.2794e+01 -1.2794e+01  2e-05  2e-15  1e-15\n",
      "10: -1.2794e+01 -1.2794e+01  2e-07  1e-15  2e-15\n",
      "Optimal solution found.\n"
     ]
    },
    {
     "data": {
      "image/png": "[encoded data removed]",
      "text/plain": [
       "<matplotlib.figure.Figure at 0x36c99668>"
      ]
     },
     "metadata": {},
     "output_type": "display_data"
    },
    {
     "name": "stdout",
     "output_type": "stream",
     "text": [
      "Confusion Matrix\n",
      "[[57  0]\n",
      " [ 0 43]]\n",
      "Accuracy 1.0\n",
      "Precision [1.0, 1.0]\n",
      "Recall [1.0, 1.0]\n",
      "F_score [1.0, 1.0]\n"
     ]
    }
   ],
   "source": [
    "W_nonlin,W0_nonlin,support_vector = training(X_nonlin,Y_nonlin,G,typ = 'soft')\n",
    "plotdata(support_vector,X_nonlin,Y_nonlin)\n",
    "predict_nonlin_soft = prediction(W_nonlin,W0_nonlin,X_nonlin)\n",
    "evaluation([-1.0,1.0],Y_nonlin,predict_nonlin_soft)"
   ]
  },
  {
   "cell_type": "code",
   "execution_count": 250,
   "metadata": {
    "collapsed": false,
    "scrolled": true
   },
   "outputs": [
    {
     "name": "stdout",
     "output_type": "stream",
     "text": [
      "     pcost       dcost       gap    pres   dres\n",
      " 0: -1.7828e+02 -4.3650e+02  3e+02  1e-13  2e+00\n",
      " 1: -2.1895e+02 -2.3189e+02  1e+01  2e-14  3e-01\n",
      " 2: -2.3134e+02 -2.3229e+02  9e-01  3e-13  5e-03\n",
      " 3: -2.3134e+02 -2.3135e+02  1e-02  2e-13  5e-05\n",
      " 4: -2.3134e+02 -2.3134e+02  1e-04  3e-13  5e-07\n",
      " 5: -2.3134e+02 -2.3134e+02  1e-06  2e-13  5e-09\n",
      "Optimal solution found.\n",
      "Confusion Matrix\n",
      "[[458   0]\n",
      " [ 90 151]]\n",
      "Accuracy 0.871244635193\n",
      "Precision [0.83576642335766427, 1.0]\n",
      "Recall [1.0, 0.62655601659751037]\n",
      "F_score [0.91053677932405563, 0.77040816326530615]\n"
     ]
    }
   ],
   "source": [
    "G = kernel_gram_matrix(X,.1)\n",
    "W,W0,svector = training(X,Y,G,typ = 'hard')\n",
    "predict = prediction(W,W0,X)\n",
    "evaluation([-1.0,1.0],Y,predict)"
   ]
  },
  {
   "cell_type": "code",
   "execution_count": 252,
   "metadata": {
    "collapsed": false
   },
   "outputs": [
    {
     "name": "stdout",
     "output_type": "stream",
     "text": [
      "     pcost       dcost       gap    pres   dres\n",
      " 0: -2.0575e+02 -1.1231e+03  9e+02  1e-13  3e-16\n",
      " 1: -2.1708e+02 -2.8215e+02  7e+01  8e-14  2e-16\n",
      " 2: -2.2902e+02 -2.3461e+02  6e+00  2e-13  1e-16\n",
      " 3: -2.3095e+02 -2.3158e+02  6e-01  3e-13  9e-17\n",
      " 4: -2.3122e+02 -2.3127e+02  5e-02  3e-13  8e-17\n",
      " 5: -2.3125e+02 -2.3125e+02  7e-04  6e-14  9e-17\n",
      " 6: -2.3125e+02 -2.3125e+02  7e-06  1e-13  9e-17\n",
      "Optimal solution found.\n",
      "Confusion Matrix\n",
      "[[458   0]\n",
      " [ 90 151]]\n",
      "Accuracy 0.871244635193\n",
      "Precision [0.83576642335766427, 1.0]\n",
      "Recall [1.0, 0.62655601659751037]\n",
      "F_score [0.91053677932405563, 0.77040816326530615]\n"
     ]
    }
   ],
   "source": [
    "W,W0,svector = training(X,Y,G,typ = 'soft')\n",
    "predict = prediction(W,W0,X)\n",
    "evaluation([-1.0,1.0],Y,predict)"
   ]
  },
  {
   "cell_type": "code",
   "execution_count": 151,
   "metadata": {
    "collapsed": false
   },
   "outputs": [
    {
     "name": "stdout",
     "output_type": "stream",
     "text": [
      "     pcost       dcost       gap    pres   dres\n",
      " 0: -1.7828e+02 -4.3650e+02  3e+02  1e-13  2e+00\n",
      " 1: -2.1895e+02 -2.3189e+02  1e+01  2e-14  3e-01\n",
      " 2: -2.3134e+02 -2.3229e+02  9e-01  3e-13  5e-03\n",
      " 3: -2.3134e+02 -2.3135e+02  1e-02  2e-13  5e-05\n",
      " 4: -2.3134e+02 -2.3134e+02  1e-04  3e-13  5e-07\n",
      " 5: -2.3134e+02 -2.3134e+02  1e-06  2e-13  5e-09\n",
      "Optimal solution found.\n",
      "Confusion Matrix\n",
      "[[458   0]\n",
      " [ 90 151]]\n",
      "Accuracy 0.871244635193\n",
      "Precision [0.83576642335766427, 1.0]\n",
      "Recall [1.0, 0.62655601659751037]\n",
      "F_score [0.91053677932405563, 0.77040816326530615]\n"
     ]
    }
   ],
   "source": [
    "G = kernel_gram_matrix(X,0.1)\n",
    "W,W0 = training(X,Y,G,typ = 'hard')\n",
    "predict = prediction(W,W0,X)\n",
    "evaluation([-1.0,1.0],Y,predict)"
   ]
  },
  {
   "cell_type": "code",
   "execution_count": 152,
   "metadata": {
    "collapsed": false
   },
   "outputs": [
    {
     "name": "stdout",
     "output_type": "stream",
     "text": [
      "     pcost       dcost       gap    pres   dres\n",
      " 0: -2.0575e+02 -1.1231e+03  9e+02  1e-13  3e-16\n",
      " 1: -2.1708e+02 -2.8215e+02  7e+01  8e-14  2e-16\n",
      " 2: -2.2902e+02 -2.3461e+02  6e+00  2e-13  1e-16\n",
      " 3: -2.3095e+02 -2.3158e+02  6e-01  3e-13  9e-17\n",
      " 4: -2.3122e+02 -2.3127e+02  5e-02  3e-13  8e-17\n",
      " 5: -2.3125e+02 -2.3125e+02  7e-04  6e-14  9e-17\n",
      " 6: -2.3125e+02 -2.3125e+02  7e-06  1e-13  9e-17\n",
      "Optimal solution found.\n",
      "Confusion Matrix\n",
      "[[458   0]\n",
      " [ 90 151]]\n",
      "Accuracy 0.871244635193\n",
      "Precision [0.83576642335766427, 1.0]\n",
      "Recall [1.0, 0.62655601659751037]\n",
      "F_score [0.91053677932405563, 0.77040816326530615]\n"
     ]
    }
   ],
   "source": [
    "G = kernel_gram_matrix(X,0.1)\n",
    "W,W0 = training(X,Y,G,typ = 'soft')\n",
    "predict = prediction(W,W0,X)\n",
    "evaluation([-1.0,1.0],Y,predict)"
   ]
  },
  {
   "cell_type": "code",
   "execution_count": 253,
   "metadata": {
    "collapsed": false
   },
   "outputs": [
    {
     "name": "stdout",
     "output_type": "stream",
     "text": [
      "     pcost       dcost       gap    pres   dres\n",
      " 0: -9.9795e+01 -1.3873e+03  7e+03  3e+00  2e-12\n",
      " 1: -6.3233e+01 -7.7120e+02  1e+03  4e-01  2e-12\n",
      " 2: -5.0165e+01 -3.7406e+02  6e+02  1e-01  9e-13\n",
      " 3: -4.2762e+01 -2.0143e+02  3e+02  6e-02  6e-13\n",
      " 4: -3.8834e+01 -1.1281e+02  1e+02  2e-02  5e-13\n",
      " 5: -3.8328e+01 -6.6936e+01  4e+01  7e-03  5e-13\n",
      " 6: -3.8514e+01 -5.6390e+01  2e+01  3e-03  5e-13\n",
      " 7: -3.9833e+01 -5.1955e+01  1e+01  1e-03  5e-13\n",
      " 8: -3.9668e+01 -5.0513e+01  1e+01  6e-04  5e-13\n",
      " 9: -4.0394e+01 -4.8357e+01  8e+00  4e-04  5e-13\n",
      "10: -4.0759e+01 -4.6838e+01  6e+00  2e-04  5e-13\n",
      "11: -4.1754e+01 -4.4692e+01  3e+00  6e-05  6e-13\n",
      "12: -4.1998e+01 -4.4012e+01  2e+00  2e-05  6e-13\n",
      "13: -4.2567e+01 -4.3179e+01  6e-01  4e-06  6e-13\n",
      "14: -4.2793e+01 -4.2871e+01  8e-02  3e-07  6e-13\n",
      "15: -4.2828e+01 -4.2829e+01  1e-03  4e-09  7e-13\n",
      "16: -4.2828e+01 -4.2828e+01  1e-05  4e-11  7e-13\n",
      "Optimal solution found.\n",
      "Confusion Matrix\n",
      "[[452   6]\n",
      " [ 29 212]]\n",
      "Accuracy 0.949928469242\n",
      "Precision [0.93970893970893976, 0.97247706422018354]\n",
      "Recall [0.98689956331877726, 0.8796680497925311]\n",
      "F_score [0.96272630457933972, 0.92374727668845324]\n"
     ]
    }
   ],
   "source": [
    "G = poly_kernel(X,0.1)\n",
    "W,W0,svector = training(X,Y,G,typ = 'soft')\n",
    "predict = prediction(W,W0,X)\n",
    "evaluation([-1.0,1.0],Y,predict)"
   ]
  },
  {
   "cell_type": "code",
   "execution_count": 254,
   "metadata": {
    "collapsed": false
   },
   "outputs": [
    {
     "name": "stdout",
     "output_type": "stream",
     "text": [
      "     pcost       dcost       gap    pres   dres\n",
      " 0: -9.9795e+01 -1.3873e+03  7e+03  3e+00  2e-12\n",
      " 1: -6.3233e+01 -7.7120e+02  1e+03  4e-01  2e-12\n",
      " 2: -5.0165e+01 -3.7406e+02  6e+02  1e-01  9e-13\n",
      " 3: -4.2762e+01 -2.0143e+02  3e+02  6e-02  6e-13\n",
      " 4: -3.8834e+01 -1.1281e+02  1e+02  2e-02  5e-13\n",
      " 5: -3.8328e+01 -6.6936e+01  4e+01  7e-03  5e-13\n",
      " 6: -3.8514e+01 -5.6390e+01  2e+01  3e-03  5e-13\n",
      " 7: -3.9833e+01 -5.1955e+01  1e+01  1e-03  5e-13\n",
      " 8: -3.9668e+01 -5.0513e+01  1e+01  6e-04  5e-13\n",
      " 9: -4.0394e+01 -4.8357e+01  8e+00  4e-04  5e-13\n",
      "10: -4.0759e+01 -4.6838e+01  6e+00  2e-04  5e-13\n",
      "11: -4.1754e+01 -4.4692e+01  3e+00  6e-05  6e-13\n",
      "12: -4.1998e+01 -4.4012e+01  2e+00  2e-05  6e-13\n",
      "13: -4.2567e+01 -4.3179e+01  6e-01  4e-06  6e-13\n",
      "14: -4.2793e+01 -4.2871e+01  8e-02  3e-07  6e-13\n",
      "15: -4.2828e+01 -4.2829e+01  1e-03  4e-09  7e-13\n",
      "16: -4.2828e+01 -4.2828e+01  1e-05  4e-11  7e-13\n",
      "Optimal solution found.\n",
      "Confusion Matrix\n",
      "[[452   6]\n",
      " [ 29 212]]\n",
      "Accuracy 0.949928469242\n",
      "Precision [0.93970893970893976, 0.97247706422018354]\n",
      "Recall [0.98689956331877726, 0.8796680497925311]\n",
      "F_score [0.96272630457933972, 0.92374727668845324]\n"
     ]
    }
   ],
   "source": [
    "G = poly_kernel(X,1)\n",
    "W,W0,svector = training(X,Y,G,typ = 'soft')\n",
    "predict = prediction(W,W0,X)\n",
    "evaluation([-1.0,1.0],Y,predict)"
   ]
  },
  {
   "cell_type": "code",
   "execution_count": 321,
   "metadata": {
    "collapsed": true
   },
   "outputs": [],
   "source": [
    "def lin_nonsep_data1(s,f,d,w,w0):\n",
    "    n = s\n",
    "    xx = np.random.rand(n,f)\n",
    "    yy = classify_dataset(w,w0,xx)\n",
    "    return xx,np.array(yy)"
   ]
  },
  {
   "cell_type": "code",
   "execution_count": 326,
   "metadata": {
    "collapsed": true
   },
   "outputs": [],
   "source": [
    "ww = np.array([[0.5,-0.5]])\n",
    "ww0 = np.array([[0.1]])\n",
    "X1,Y1 = lin_nonsep_data1(200,2,0,ww,ww0)"
   ]
  },
  {
   "cell_type": "code",
   "execution_count": 327,
   "metadata": {
    "collapsed": false,
    "scrolled": true
   },
   "outputs": [
    {
     "data": {
      "text/plain": [
       "([1.0, -1.0], {-1.0: 70, 1.0: 130}, {-1.0: 0.35, 1.0: 0.65})"
      ]
     },
     "execution_count": 327,
     "metadata": {},
     "output_type": "execute_result"
    }
   ],
   "source": [
    "c = Counter()\n",
    "find_alpha1(Y1)"
   ]
  },
  {
   "cell_type": "code",
   "execution_count": 331,
   "metadata": {
    "collapsed": false
   },
   "outputs": [
    {
     "name": "stdout",
     "output_type": "stream",
     "text": [
      "     pcost       dcost       gap    pres   dres\n",
      " 0: -7.2060e+01 -1.5592e+02  7e+02  3e+01  2e+00\n",
      " 1: -1.9010e+02 -2.4234e+02  4e+02  1e+01  1e+00\n",
      " 2: -3.3639e+02 -3.9245e+02  4e+02  1e+01  1e+00\n",
      " 3: -6.5065e+02 -7.1671e+02  4e+02  1e+01  1e+00\n",
      " 4: -3.8511e+03 -3.9557e+03  5e+02  1e+01  1e+00\n",
      " 5: -1.3118e+04 -1.3407e+04  1e+03  1e+01  1e+00\n",
      " 6: -1.2514e+04 -1.3720e+04  3e+03  1e+01  1e+00\n",
      " 7: -2.1626e+04 -2.5392e+04  7e+03  1e+01  9e-01\n",
      " 8: -3.0492e+04 -3.8693e+04  1e+04  6e+00  4e-01\n",
      " 9: -3.1372e+04 -3.2232e+04  1e+03  4e-01  3e-02\n",
      "10: -3.1312e+04 -3.1321e+04  1e+01  4e-03  3e-04\n",
      "11: -3.1312e+04 -3.1312e+04  1e-01  4e-05  3e-06\n",
      "12: -3.1312e+04 -3.1312e+04  1e-03  4e-07  3e-08\n",
      "13: -3.1312e+04 -3.1312e+04  1e-05  4e-09  3e-10\n",
      "Optimal solution found.\n"
     ]
    },
    {
     "data": {
      "image/png": "[encoded data removed]",
      "text/plain": [
       "<matplotlib.figure.Figure at 0x1c99a550>"
      ]
     },
     "metadata": {},
     "output_type": "display_data"
    },
    {
     "name": "stdout",
     "output_type": "stream",
     "text": [
      "Confusion Matrix\n",
      "[[ 70   0]\n",
      " [112  18]]\n",
      "Accuracy 0.44\n",
      "Precision [0.38461538461538464, 1.0]\n",
      "Recall [1.0, 0.13846153846153847]\n",
      "F_score [0.55555555555555558, 0.24324324324324326]\n"
     ]
    }
   ],
   "source": [
    "G = poly_kernel(X1,0.1)\n",
    "W1,W10,support_vector1 = training(X1,Y1,G,typ = 'hard')\n",
    "plotdata1(support_vector1,X1,Y1)\n",
    "predict_nonlin_soft = prediction(W1,W10,X1)\n",
    "evaluation([-1.0,1.0],Y1,predict_nonlin_soft)"
   ]
  },
  {
   "cell_type": "code",
   "execution_count": 332,
   "metadata": {
    "collapsed": false
   },
   "outputs": [
    {
     "name": "stdout",
     "output_type": "stream",
     "text": [
      "     pcost       dcost       gap    pres   dres\n",
      " 0: -6.9934e+01 -4.6904e+02  2e+03  3e+00  5e-15\n",
      " 1: -4.1289e+01 -3.0244e+02  4e+02  2e-01  3e-15\n",
      " 2: -4.0791e+01 -7.6975e+01  4e+01  2e-02  4e-15\n",
      " 3: -5.3153e+01 -6.2592e+01  1e+01  4e-03  3e-15\n",
      " 4: -5.5624e+01 -6.0328e+01  5e+00  2e-03  3e-15\n",
      " 5: -5.6959e+01 -5.9011e+01  2e+00  6e-04  4e-15\n",
      " 6: -5.7840e+01 -5.8119e+01  3e-01  6e-05  4e-15\n",
      " 7: -5.7948e+01 -5.8007e+01  6e-02  1e-05  4e-15\n",
      " 8: -5.7975e+01 -5.7978e+01  2e-03  3e-07  4e-15\n",
      " 9: -5.7977e+01 -5.7977e+01  2e-05  3e-09  4e-15\n",
      "Optimal solution found.\n"
     ]
    },
    {
     "data": {
      "image/png": "[encoded data removed]",
      "text/plain": [
       "<matplotlib.figure.Figure at 0x1c5df400>"
      ]
     },
     "metadata": {},
     "output_type": "display_data"
    },
    {
     "name": "stdout",
     "output_type": "stream",
     "text": [
      "Confusion Matrix\n",
      "[[ 70   0]\n",
      " [ 17 113]]\n",
      "Accuracy 0.915\n",
      "Precision [0.8045977011494253, 1.0]\n",
      "Recall [1.0, 0.86923076923076925]\n",
      "F_score [0.89171974522292985, 0.93004115226337447]\n"
     ]
    }
   ],
   "source": [
    "W1,W10,support_vector1 = training(X1,Y1,G,typ = 'soft')\n",
    "plotdata1(support_vector1,X1,Y1)\n",
    "predict_nonlin_soft = prediction(W1,W10,X1)\n",
    "evaluation([-1.0,1.0],Y1,predict_nonlin_soft)"
   ]
  },
  {
   "cell_type": "code",
   "execution_count": 333,
   "metadata": {
    "collapsed": false
   },
   "outputs": [
    {
     "name": "stdout",
     "output_type": "stream",
     "text": [
      "     pcost       dcost       gap    pres   dres\n",
      " 0: -2.4526e+01 -8.5207e+01  6e+01  2e-15  2e+00\n",
      " 1: -2.9560e+01 -5.1773e+01  2e+01  1e-15  8e-01\n",
      " 2: -4.1511e+01 -6.6780e+01  3e+01  2e-15  6e-01\n",
      " 3: -4.7924e+01 -5.4775e+01  7e+00  4e-15  1e-01\n",
      " 4: -4.8908e+01 -4.9908e+01  1e+00  1e-14  1e-02\n",
      " 5: -4.9116e+01 -4.9350e+01  2e-01  1e-14  2e-03\n",
      " 6: -4.9186e+01 -4.9223e+01  4e-02  5e-15  7e-16\n",
      " 7: -4.9201e+01 -4.9205e+01  3e-03  2e-15  7e-16\n",
      " 8: -4.9203e+01 -4.9203e+01  5e-04  6e-15  1e-15\n",
      " 9: -4.9203e+01 -4.9203e+01  1e-05  4e-15  7e-16\n",
      "Optimal solution found.\n"
     ]
    },
    {
     "data": {
      "image/png": "[encoded data removed]",
      "text/plain": [
       "<matplotlib.figure.Figure at 0x1c5f0da0>"
      ]
     },
     "metadata": {},
     "output_type": "display_data"
    },
    {
     "name": "stdout",
     "output_type": "stream",
     "text": [
      "Confusion Matrix\n",
      "[[70  0]\n",
      " [31 99]]\n",
      "Accuracy 0.845\n",
      "Precision [0.69306930693069302, 1.0]\n",
      "Recall [1.0, 0.7615384615384615]\n",
      "F_score [0.81871345029239762, 0.86462882096069871]\n"
     ]
    }
   ],
   "source": [
    "G = kernel_gram_matrix(X1,0.1)\n",
    "W1,W10,support_vector1 = training(X1,Y1,G,typ = 'hard')\n",
    "plotdata1(support_vector1,X1,Y1)\n",
    "predict_nonlin_soft = prediction(W1,W10,X1)\n",
    "evaluation([-1.0,1.0],Y1,predict_nonlin_soft)"
   ]
  },
  {
   "cell_type": "code",
   "execution_count": 334,
   "metadata": {
    "collapsed": false
   },
   "outputs": [
    {
     "name": "stdout",
     "output_type": "stream",
     "text": [
      "     pcost       dcost       gap    pres   dres\n",
      " 0: -2.2865e+01 -2.9528e+02  9e+02  1e+00  7e-16\n",
      " 1: -1.9358e+01 -1.4075e+02  1e+02  3e-15  4e-16\n",
      " 2: -2.5800e+01 -4.7844e+01  2e+01  3e-15  4e-16\n",
      " 3: -2.8367e+01 -3.2102e+01  4e+00  2e-15  2e-16\n",
      " 4: -2.8960e+01 -2.9808e+01  8e-01  2e-15  2e-16\n",
      " 5: -2.9108e+01 -2.9338e+01  2e-01  4e-16  2e-16\n",
      " 6: -2.9156e+01 -2.9203e+01  5e-02  8e-16  2e-16\n",
      " 7: -2.9166e+01 -2.9172e+01  6e-03  4e-15  2e-16\n",
      " 8: -2.9167e+01 -2.9168e+01  8e-04  6e-15  2e-16\n",
      " 9: -2.9167e+01 -2.9167e+01  2e-05  2e-16  2e-16\n",
      "Optimal solution found.\n"
     ]
    },
    {
     "data": {
      "image/png": "[encoded data removed]",
      "text/plain": [
       "<matplotlib.figure.Figure at 0x1c2a2f60>"
      ]
     },
     "metadata": {},
     "output_type": "display_data"
    },
    {
     "name": "stdout",
     "output_type": "stream",
     "text": [
      "Confusion Matrix\n",
      "[[ 70   0]\n",
      " [ 30 100]]\n",
      "Accuracy 0.85\n",
      "Precision [0.69999999999999996, 1.0]\n",
      "Recall [1.0, 0.76923076923076927]\n",
      "F_score [0.82352941176470584, 0.86956521739130443]\n"
     ]
    }
   ],
   "source": [
    "W1,W10,support_vector1 = training(X1,Y1,G,typ = 'soft')\n",
    "plotdata1(support_vector1,X1,Y1)\n",
    "predict_nonlin_soft = prediction(W1,W10,X1)\n",
    "evaluation([-1.0,1.0],Y1,predict_nonlin_soft)"
   ]
  },
  {
   "cell_type": "code",
   "execution_count": null,
   "metadata": {
    "collapsed": true
   },
   "outputs": [],
   "source": []
  }
 ],
 "metadata": {
  "kernelspec": {
   "display_name": "Python 2",
   "language": "python",
   "name": "python2"
  },
  "language_info": {
   "codemirror_mode": {
    "name": "ipython",
    "version": 2
   },
   "file_extension": ".py",
   "mimetype": "text/x-python",
   "name": "python",
   "nbconvert_exporter": "python",
   "pygments_lexer": "ipython2",
   "version": "2.7.11"
  }
 },
 "nbformat": 4,
 "nbformat_minor": 0
}
